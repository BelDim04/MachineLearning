{
  "cells": [
    {
      "cell_type": "markdown",
      "metadata": {
        "id": "7VxKFmgVZnII"
      },
      "source": [
        "## Домашнее задание №9\n",
        "### Генерация поэзии с помощью нейронных сетей: шаг 1\n",
        "##### Автор: [Радослав Нейчев](https://www.linkedin.com/in/radoslav-neychev/), @neychev\n",
        "\n",
        "Ваша основная задача: научиться генерироват стихи с помощью простой рекуррентной нейронной сети (Vanilla RNN). В качестве корпуса текстов для обучения будет выступать роман в стихах \"Евгений Онегин\" Александра Сергеевича Пушкина."
      ]
    },
    {
      "cell_type": "code",
      "execution_count": null,
      "metadata": {
        "id": "Z7TBfU_2ZnIK"
      },
      "outputs": [],
      "source": [
        "# do not change the code in the block below\n",
        "# __________start of block__________\n",
        "import string\n",
        "import os\n",
        "from random import sample\n",
        "\n",
        "import numpy as np\n",
        "import torch, torch.nn as nn\n",
        "import torch.nn.functional as F\n",
        "\n",
        "from IPython.display import clear_output\n",
        "\n",
        "import matplotlib.pyplot as plt\n",
        "%matplotlib inline\n",
        "# __________end of block__________"
      ]
    },
    {
      "cell_type": "code",
      "execution_count": null,
      "metadata": {
        "colab": {
          "base_uri": "https://localhost:8080/"
        },
        "id": "4j5vFPn3ZnIK",
        "outputId": "baf42791-1e14-4e25-b8f6-077c460d69a9"
      },
      "outputs": [
        {
          "output_type": "stream",
          "name": "stdout",
          "text": [
            "cuda device is available\n"
          ]
        }
      ],
      "source": [
        "# do not change the code in the block below\n",
        "# __________start of block__________\n",
        "device = torch.device('cuda') if torch.cuda.is_available() else torch.device('cpu')\n",
        "print('{} device is available'.format(device))\n",
        "# __________end of block__________"
      ]
    },
    {
      "cell_type": "markdown",
      "metadata": {
        "id": "MPenWOy01Ooa",
        "outputId": "a92e8e33-e009-4bd4-ac12-3b1b5e1cd3f2"
      },
      "source": [
        "#### 1. Загрузка данных."
      ]
    },
    {
      "cell_type": "code",
      "execution_count": null,
      "metadata": {
        "colab": {
          "base_uri": "https://localhost:8080/"
        },
        "id": "TAJbkR1gZnIL",
        "outputId": "7fc7cc26-70d1-40de-84e3-e3ec84928325"
      },
      "outputs": [
        {
          "output_type": "stream",
          "name": "stdout",
          "text": [
            "--2023-12-18 20:12:01--  https://raw.githubusercontent.com/neychev/small_DL_repo/master/datasets/onegin.txt\n",
            "Resolving raw.githubusercontent.com (raw.githubusercontent.com)... 185.199.108.133, 185.199.109.133, 185.199.110.133, ...\n",
            "Connecting to raw.githubusercontent.com (raw.githubusercontent.com)|185.199.108.133|:443... connected.\n",
            "HTTP request sent, awaiting response... 200 OK\n",
            "Length: 262521 (256K) [text/plain]\n",
            "Saving to: ‘onegin.txt.1’\n",
            "\n",
            "\ronegin.txt.1          0%[                    ]       0  --.-KB/s               \ronegin.txt.1        100%[===================>] 256.37K  --.-KB/s    in 0.01s   \n",
            "\n",
            "2023-12-18 20:12:02 (21.6 MB/s) - ‘onegin.txt.1’ saved [262521/262521]\n",
            "\n"
          ]
        }
      ],
      "source": [
        "# do not change the code in the block below\n",
        "# __________start of block__________\n",
        "!wget https://raw.githubusercontent.com/neychev/small_DL_repo/master/datasets/onegin.txt\n",
        "\n",
        "with open('onegin.txt', 'r') as iofile:\n",
        "    text = iofile.readlines()\n",
        "\n",
        "text = \"\".join([x.replace('\\t\\t', '').lower() for x in text])\n",
        "# __________end of block__________"
      ]
    },
    {
      "cell_type": "markdown",
      "metadata": {
        "id": "XQYpmGfR_gJ8"
      },
      "source": [
        "#### 2. Построение словаря и предобработка текста\n",
        "В данном задании требуется построить языковую модель на уровне символов. Приведем весь текст к нижнему регистру и построим словарь из всех символов в доступном корпусе текстов. Также добавим токен `<sos>`."
      ]
    },
    {
      "cell_type": "code",
      "execution_count": null,
      "metadata": {
        "colab": {
          "base_uri": "https://localhost:8080/"
        },
        "id": "UY9dwjmQZnIL",
        "outputId": "9c5c0cf1-5509-4926-e836-1676da8270c9"
      },
      "outputs": [
        {
          "output_type": "stream",
          "name": "stdout",
          "text": [
            "Seems fine!\n"
          ]
        }
      ],
      "source": [
        "# do not change the code in the block below\n",
        "# __________start of block__________\n",
        "tokens = sorted(set(text.lower())) + ['<sos>']\n",
        "num_tokens = len(tokens)\n",
        "\n",
        "assert num_tokens == 84, \"Check the tokenization process\"\n",
        "\n",
        "token_to_idx = {x: idx for idx, x in enumerate(tokens)}\n",
        "idx_to_token = {idx: x for idx, x in enumerate(tokens)}\n",
        "\n",
        "assert len(tokens) == len(token_to_idx), \"Mapping should be unique\"\n",
        "\n",
        "print(\"Seems fine!\")\n",
        "\n",
        "\n",
        "text_encoded = [token_to_idx[x] for x in text]\n",
        "# __________end of block__________"
      ]
    },
    {
      "cell_type": "markdown",
      "metadata": {
        "id": "G0lfdjSKZnIL"
      },
      "source": [
        "__Ваша задача__: обучить классическую рекуррентную нейронную сеть (Vanilla RNN) предсказывать следующий символ на полученном корпусе текстов и сгенерировать последовательность длины 100 для фиксированной начальной фразы.\n",
        "\n",
        "Вы можете воспользоваться кодом с занятие №6 или же обратиться к следующим ссылкам:\n",
        "* Замечательная статья за авторством Andrej Karpathy об использовании RNN: [link](http://karpathy.github.io/2015/05/21/rnn-effectiveness/)\n",
        "* Пример char-rnn от Andrej Karpathy: [github repo](https://github.com/karpathy/char-rnn)\n",
        "* Замечательный пример генерации поэзии Шекспира: [github repo](https://github.com/spro/practical-pytorch/blob/master/char-rnn-generation/char-rnn-generation.ipynb)\n",
        "\n",
        "Данное задание является достаточно творческим. Не страшно, если поначалу оно вызывает затруднения. Последняя ссылка в списке выше может быть особенно полезна в данном случае.\n",
        "\n",
        "Далее для вашего удобства реализована функция, которая генерирует случайный батч размера `batch_size` из строк длиной `seq_length`. Вы можете использовать его при обучении модели."
      ]
    },
    {
      "cell_type": "code",
      "execution_count": null,
      "metadata": {
        "id": "XIanG0CDZnIL"
      },
      "outputs": [],
      "source": [
        "# do not change the code in the block below\n",
        "# __________start of block__________\n",
        "batch_size = 256\n",
        "seq_length = 100\n",
        "start_column = np.zeros((batch_size, 1), dtype=int) + token_to_idx['<sos>']\n",
        "\n",
        "def generate_chunk():\n",
        "    global text_encoded, start_column, batch_size, seq_length\n",
        "\n",
        "    start_index = np.random.randint(0, len(text_encoded) - batch_size*seq_length - 1)\n",
        "    data = np.array(text_encoded[start_index:start_index + batch_size*seq_length]).reshape((batch_size, -1))\n",
        "    yield np.hstack((start_column, data))\n",
        "# __________end of block__________"
      ]
    },
    {
      "cell_type": "markdown",
      "metadata": {
        "id": "1TMorwDnZnIL"
      },
      "source": [
        "Пример батча:"
      ]
    },
    {
      "cell_type": "code",
      "execution_count": null,
      "metadata": {
        "colab": {
          "base_uri": "https://localhost:8080/"
        },
        "id": "lMA7nDIRZnIM",
        "outputId": "93aa99a0-4418-497d-8ca4-12bc6c959a62"
      },
      "outputs": [
        {
          "output_type": "execute_result",
          "data": {
            "text/plain": [
              "array([[83,  1, 55, ...,  5,  0, 57],\n",
              "       [83, 72,  1, ..., 56, 76,  1],\n",
              "       [83, 58, 45, ..., 58, 45, 56],\n",
              "       ...,\n",
              "       [83, 53, 76, ..., 50, 48, 59],\n",
              "       [83, 49, 58, ...,  1, 47, 52],\n",
              "       [83, 59, 61, ..., 55, 53, 63]])"
            ]
          },
          "metadata": {},
          "execution_count": 39
        }
      ],
      "source": [
        "next(generate_chunk())"
      ]
    },
    {
      "cell_type": "markdown",
      "metadata": {
        "id": "U3AZDwrpZnIM"
      },
      "source": [
        "Далее вам предстоит написать код для обучения модели и генерации текста."
      ]
    },
    {
      "cell_type": "code",
      "execution_count": null,
      "metadata": {
        "id": "hCuVPbC2ZnIM"
      },
      "outputs": [],
      "source": [
        "class CharRNN(nn.Module):\n",
        "    def __init__(self, num_tokens=num_tokens, emb_size=100, hidden_size=100, num_layers=1):\n",
        "        super().__init__()\n",
        "        self.emb = nn.Embedding(num_tokens, emb_size)\n",
        "        self.rnn = nn.RNN(emb_size, hidden_size, num_layers, batch_first=True)\n",
        "        self.fc = nn.Linear(hidden_size, num_tokens)\n",
        "\n",
        "    def forward(self, x, hidden=None):\n",
        "        x = self.emb(x)\n",
        "        x, hidden = self.rnn(x, hidden)\n",
        "        x = self.fc(x)\n",
        "        return x, hidden"
      ]
    },
    {
      "cell_type": "markdown",
      "metadata": {
        "id": "ptcen4PXZnIM"
      },
      "source": [
        "В качестве иллюстрации ниже доступен график значений функции потерь, построенный в ходе обучения авторской сети (сам код для ее обучения вам и предстоит написать)."
      ]
    },
    {
      "cell_type": "code",
      "execution_count": null,
      "metadata": {
        "colab": {
          "base_uri": "https://localhost:8080/",
          "height": 430
        },
        "id": "IVvEDtHWZnIM",
        "outputId": "4d54755f-c97e-46cc-ed95-10b9175ea9f0"
      },
      "outputs": [
        {
          "output_type": "display_data",
          "data": {
            "text/plain": [
              "<Figure size 640x480 with 1 Axes>"
            ],
            "image/png": "[encoded data removed]"
          },
          "metadata": {}
        }
      ],
      "source": [
        "# Создаем модель и переносим ее на выбранное устройство\n",
        "char_rnn = CharRNN().to(device)\n",
        "\n",
        "# Задаем функцию потерь и оптимизатор\n",
        "loss_function = nn.CrossEntropyLoss()\n",
        "optimizer = torch.optim.Adam(char_rnn.parameters())\n",
        "\n",
        "# Количество эпох и интервал для вывода графика\n",
        "num_epochs = 10000\n",
        "\n",
        "history = []\n",
        "\n",
        "for epoch in range(num_epochs):\n",
        "    # Генерируем батчи\n",
        "    for batch in generate_chunk():\n",
        "        # Обнуляем градиенты\n",
        "        optimizer.zero_grad()\n",
        "\n",
        "        # Преобразуем данные и переносим их на выбранное устройство\n",
        "        batch = torch.tensor(batch, dtype=torch.int64).to(device)\n",
        "        inputs = batch[:, :-1]\n",
        "        targets = batch[:, 1:]\n",
        "\n",
        "        # Прогоняем данные через модель и вычисляем функцию потерь\n",
        "        outputs, _ = char_rnn(inputs)\n",
        "        loss = loss_function(outputs.contiguous().view(-1, num_tokens), targets.contiguous().view(-1))\n",
        "\n",
        "        # Обновляем параметры модели\n",
        "        loss.backward()\n",
        "        optimizer.step()\n",
        "\n",
        "        # Записываем значение функции потерь\n",
        "        history.append(loss.item())\n",
        "    if epoch % 100 == 0:\n",
        "        print(epoch)\n",
        "        clear_output(True)\n",
        "        plt.plot(history, label='loss')\n",
        "        plt.legend()\n",
        "        plt.show()"
      ]
    },
    {
      "cell_type": "markdown",
      "metadata": {
        "id": "IN3ypLw6ZnIN"
      },
      "source": [
        "Шаблон функции `generate_sample` также доступен ниже. Вы можете как дозаполнить его, так и написать свою собственную функцию с нуля. Не забывайте, что все примеры в обучающей выборке начинались с токена `<sos>`."
      ]
    },
    {
      "cell_type": "code",
      "execution_count": null,
      "metadata": {
        "id": "D9wucXjsZnIN"
      },
      "outputs": [],
      "source": [
        "def generate_sample(char_rnn, seed_phrase=None, max_length=200, temperature=1.0, device=device):\n",
        "    '''\n",
        "    The function generates text given a phrase of length at least SEQ_LENGTH.\n",
        "    :param seed_phrase: prefix characters. The RNN is asked to continue the phrase\n",
        "    :param max_length: maximum output length, including seed_phrase\n",
        "    :param temperature: coefficient for sampling.  higher temperature produces more chaotic outputs,\n",
        "                        smaller temperature converges to the single most likely output\n",
        "    '''\n",
        "\n",
        "    if seed_phrase is not None:\n",
        "        x_sequence = [token_to_idx['<sos>']] + [token_to_idx[token] for token in seed_phrase]\n",
        "    else:\n",
        "        x_sequence = [token_to_idx['<sos>']]\n",
        "\n",
        "    x_sequence = torch.tensor([x_sequence], dtype=torch.int64).to(device)\n",
        "    hidden = None\n",
        "\n",
        "    for _ in range(max_length - len(seed_phrase)):\n",
        "        outputs, hidden = char_rnn(x_sequence[:, -1].unsqueeze(1), hidden)\n",
        "        probabilities = F.softmax(outputs / temperature, dim=-1)\n",
        "        next_token = torch.multinomial(probabilities.squeeze(), num_samples=1)\n",
        "        x_sequence = torch.cat([x_sequence, next_token.unsqueeze(1)], dim=1)\n",
        "\n",
        "    return ''.join([tokens[ix] for ix in x_sequence.cpu().data.numpy()[0]])"
      ]
    },
    {
      "cell_type": "markdown",
      "metadata": {
        "id": "V1jcpK8aZnIN"
      },
      "source": [
        "Пример текста сгенерированного обученной моделью доступен ниже. Не страшно, что в тексте много несуществующих слов. Используемая модель очень проста: это простая классическая RNN."
      ]
    },
    {
      "cell_type": "code",
      "execution_count": null,
      "metadata": {
        "colab": {
          "base_uri": "https://localhost:8080/"
        },
        "id": "lMVV3YgVZnIN",
        "outputId": "d15c3db6-2a5b-4eba-e8c5-4f142c30536b"
      },
      "outputs": [
        {
          "output_type": "stream",
          "name": "stdout",
          "text": [
            "<sos> мой дядя самых честных правилука;\n",
            "всё был,\n",
            "чемец небо приветок двсежда благоесить завновит,\n",
            "когда же начередна был обездесно.\n",
            "\n",
            "\n",
            "\n",
            "xiv\n",
            "\n",
            "но в сосед из мил оветочить и не был обвидит был соберем не полно любовь,\n",
            "он онеглах двор, хульший мой кот, младое скланы, евгенит,\n",
            "всё жаливый сам и на бабы,\n",
            "в дом приятел\n",
            "и бы вотрадня, суровицы сердце души здравить так привезнуком простить\n",
            "и никах, и шелком заришо перебелый про окныго на свои друзьям протию лиский летой слово сны,\n",
            "на что брит ново любовь\n",
            "он ко\n"
          ]
        }
      ],
      "source": [
        "print(generate_sample(char_rnn, ' мой дядя самых честных правил', max_length=500, temperature=0.8))"
      ]
    },
    {
      "cell_type": "markdown",
      "metadata": {
        "id": "Wf9WyyDaZnIN"
      },
      "source": [
        "### Сдача задания\n",
        "Сгенерируйте десять последовательностей длиной 500, используя строку ' мой дядя самых честных правил'. Температуру для генерации выберите самостоятельно на основании визуального качества генериуремого текста. Не забудьте удалить все технические токены в случае их наличия.\n",
        "\n",
        "Сгенерированную последовательность сохрание в переменную `generated_phrase` и сдайте сгенерированный ниже файл в контест."
      ]
    },
    {
      "cell_type": "code",
      "execution_count": null,
      "metadata": {
        "id": "PAGKTxeOZnIN"
      },
      "outputs": [],
      "source": [
        "seed_phrase = ' мой дядя самых честных правил'"
      ]
    },
    {
      "cell_type": "code",
      "execution_count": null,
      "metadata": {
        "colab": {
          "base_uri": "https://localhost:8080/"
        },
        "id": "BqbdLAiZZnIN",
        "outputId": "e1eb0e3d-0f11-4037-9113-518a0fdf9453"
      },
      "outputs": [
        {
          "output_type": "stream",
          "name": "stdout",
          "text": [
            "Phrase start: len = 500\n",
            "\t  мой дядя самых честных правилюбила,\n",
            "как наставь старушки упоровым в трепела в стреко старом полный онегина молчалива,\n",
            "но своей\n",
            "не мог концух востей.\n",
            "под ним душа встречало, не заставил не моею\n",
            "бывало;\n",
            "и всех переменной всех ночной странился вольным бледнет своей\n",
            "и старом любовь менял отдала б не свет друг без болений\n",
            "молчали головой шумной перед ней\n",
            "их приятно,\n",
            "татьяна под колена.\n",
            "\n",
            "\n",
            "\n",
            "xxiv\n",
            "\n",
            "и не бурь,\n",
            "и последается и обесяз во в сердце с ним и в сон мир своей,\n",
            "и нас не привычка моды мне призратк\n",
            "Phrase start: len = 500\n",
            "\t  мой дядя самых честных правилюбила дворы, как тем привеза на страх, приветы трепетанье,\n",
            "в толов,\n",
            "и володно,\n",
            "на возродной,\n",
            "и вечер простокловить от таня вольный моей разливой,\n",
            "всех сердце день вот о может ленский\n",
            "под наменно в был простом,\n",
            "и на полед нас привычарть в сон в том листные по столом умело,\n",
            "и в том осень волненье\n",
            "и в души мечтательсо корозно сердце подне мир гости простими своего сосед уж он великный володно соседа,\n",
            "и всех как привечаствая мил и слова мученье,\n",
            "в об ней обедал то пости\n",
            "Phrase start: len = 500\n",
            "\t  мой дядя самых честных правилюбила подраженье постель\n",
            "к ней она груза снова\n",
            "хоть не бледней в песы моей;\n",
            "он крество старац и передаю всё поряд и над ней отруда приветеркает будальное сердца день пред неги была порой не стройки верет так бы рассеят большой молодой,\n",
            "и полно с ней\n",
            "стравно постретий неволе\n",
            "когда не старины,\n",
            "и на был востовно,\n",
            "всё расселкий возрожно тебя наконе,\n",
            "и врага\n",
            "вертится сердца раскажен о татьяна беспесет над ней она поэта,\n",
            "на грудь\n",
            "придет на болете, мог как не хозять небеск\n",
            "Phrase start: len = 500\n",
            "\t  мой дядя самых честных правилюбила был явилась его очей\n",
            "на словенный свой полей к ней очини в том сердце нашело\n",
            "на старине,\n",
            "подвижу покойкой двор,\n",
            "когда в соседственный славном\n",
            "в смертном всех друга,\n",
            "в деревня в ней заместрой сердце после думать внодясь. он слава слышал у двор, из ленский послушали спорой томная, полом\n",
            "обничала лете с полед:\n",
            "простите соседа,\n",
            "и в модно усталь не свободил, ходит всех она в дворей долги подышенный даже простить.\n",
            "\n",
            "\n",
            "\n",
            "xii\n",
            "\n",
            "когда простились в своей страшно долго прост\n",
            "Phrase start: len = 500\n",
            "\t  мой дядя самых честных правилушки светит ее суд иль и на своим и просторот\n",
            "не приятный истревенье\n",
            "и не спит дамо дело снова\n",
            "хоть я на младу в поля возмолча простить с ним молвился толпиньем умом сердце уж и старой утретных и на нем в трада он за может летит представить на столом евгений,\n",
            "онегин, моей самое мало\n",
            "не скажиет\n",
            "ястину,\n",
            "татьяна в соседа,\n",
            "и темною врегими друг просколенных переменной,\n",
            "не ты в садит,\n",
            "и всех свой поэт.\n",
            "\n",
            "\n",
            "\n",
            "xiv\n",
            "\n",
            "но отвотились же надеждали\n",
            "привез во мне в том в дворочка заб\n",
            "Phrase start: len = 500\n",
            "\t  мой дядя самых честных правилять младил и дело моей\n",
            "порою своей губяяску порядки молодой.\n",
            "\n",
            "\n",
            "\n",
            "x\n",
            "\n",
            "в приелашенской желанье на своей страшно странные светла без гром простите сердца ленькой света ваше полу слезами света\n",
            "(какою друженье,\n",
            "и так порарина,\n",
            "и задетились и судьбедаю сердце дерзвать на нас и пора, своем друг,\n",
            "он простой сон молча таня полно и с ним обной,\n",
            "порачестить традальных дубы в принама\n",
            "шинаться со старина,\n",
            "горь своей страшно с него приятель и сон беспеста в столь возврать?\n",
            "где не с\n",
            "Phrase start: len = 500\n",
            "\t  мой дядя самых честных правилюбилась.\n",
            "он под бледный беглился он онегины медведь одна.\n",
            "онегин и воставом она задавно с ним огне в том в розовленестник просноты с сомужель облучай,\n",
            "их вести прощадом уследный,\n",
            "что взор,\n",
            "когда был говорял поведь гостей.\n",
            "\n",
            "\n",
            "\n",
            "xxxii\n",
            "\n",
            "но так лаская бездесь поверенный сердце свою души на воздит евгений\n",
            "скорочные свой сон умом возредной,\n",
            "в гуравий,\n",
            "почтаненья,\n",
            "под ней сладкой старац.\n",
            "и был на волнений,\n",
            "он так в очень в между было, умная,\n",
            "о ты, не ника слезы полный скорей\n",
            "Phrase start: len = 500\n",
            "\t  мой дядя самых честных правилюбовым ваши нас небо от ней простительный владетелась,\n",
            "к сорой кого с ним обвиная полотры своей меньше руке\n",
            "привычк на своей моя во верье\n",
            "на достойней страсти подамает устайне на своей столо слово уж девицы был душа в свои дороги приеленных на ней разговор.\n",
            "\n",
            "\n",
            "\n",
            "xxiv\n",
            "\n",
            "\n",
            "не все просторный слово татьяна мужный от мой карикра.\n",
            "как всех видеть евгений\n",
            "за мечты\n",
            "и в предала скравной юности поведь был должной мой молчаливый и своим в ней друг ни полновиться в деревный всех ве\n",
            "Phrase start: len = 500\n",
            "\t  мой дядя самых честных правилюбви,\n",
            "как татьяна простить в свою душе луна\n",
            "и будно сердце речь он гостей в старушка сказал после в полясь жани простительный в нем передлиценный модных сноват молвит и след с ним с листа красных лет.\n",
            "\n",
            "\n",
            "\n",
            "xxi\n",
            "\n",
            "и стороной сорой чувство страшной душа был одно с него сердца на чай ленский толка всё предала на вздохнули деревни томной\n",
            "мечтамо страсит не вот он жалой\n",
            "она в приветством в темное расква в печальным так нам предстая страстье такого на поробки после в полный п\n",
            "Phrase start: len = 500\n",
            "\t  мой дядя самых честных правиляньем и на блесен ольгиной,\n",
            "и легча моих он обедавально\n",
            "мы в своей своей городы и долго самое старый тупень и дальзи простили в темное молись,\n",
            "что рыка,\n",
            "свой слазуют ее не своих и порарись в полюбивал.\n",
            "в не стольненью старина.\n",
            "\n",
            "\n",
            "\n",
            "xxxi\n",
            "\n",
            "но стыда не старине,\n",
            "и сердце без нет в трепетанье\n",
            "не залюбик молчаливаях полотли с ними слова же докренный слава\n",
            "хоть на долго снисто жадно вырок она всё за ней\n",
            "и в своим теперь и бестак привесть, постело на дом?\n",
            "что приверно.\n",
            "\n",
            "\n",
            "\n",
            "xxv\n"
          ]
        }
      ],
      "source": [
        "generated_phrases = [\n",
        "    generate_sample(\n",
        "        char_rnn,\n",
        "        ' мой дядя самых честных правил',\n",
        "        max_length=500,\n",
        "        temperature=0.5\n",
        "    ).replace('<sos>', '')\n",
        "    for _ in range(10)\n",
        "]\n",
        "\n",
        "for p in generated_phrases:\n",
        "  print(f'Phrase start: len = {len(p)}')\n",
        "  print('\\t', p)"
      ]
    },
    {
      "cell_type": "code",
      "execution_count": null,
      "metadata": {
        "colab": {
          "base_uri": "https://localhost:8080/"
        },
        "id": "9PHLTHycZnIN",
        "outputId": "7072162b-200f-4491-bec2-a96001c54031"
      },
      "outputs": [
        {
          "output_type": "stream",
          "name": "stdout",
          "text": [
            "File saved to `submission_dict.json`\n"
          ]
        }
      ],
      "source": [
        "# do not change the code in the block below\n",
        "# __________start of block__________\n",
        "\n",
        "import json\n",
        "if 'generated_phrases' not in locals():\n",
        "    raise ValueError(\"Please, save generated phrases to `generated_phrases` variable\")\n",
        "\n",
        "for phrase in generated_phrases:\n",
        "\n",
        "    if not isinstance(phrase, str):\n",
        "        raise ValueError(\"The generated phrase should be a string\")\n",
        "\n",
        "    if len(phrase) != 500:\n",
        "        raise ValueError(\"The `generated_phrase` length should be equal to 500\")\n",
        "\n",
        "    assert all([x in set(tokens) for x in set(list(phrase))]), 'Unknown tokens detected, check your submission!'\n",
        "\n",
        "\n",
        "submission_dict = {\n",
        "    'token_to_idx': token_to_idx,\n",
        "    'generated_phrases': generated_phrases\n",
        "}\n",
        "\n",
        "with open('submission_dict.json', 'w') as iofile:\n",
        "    json.dump(submission_dict, iofile)\n",
        "print('File saved to `submission_dict.json`')\n",
        "# __________end of block__________"
      ]
    },
    {
      "cell_type": "markdown",
      "metadata": {
        "id": "JOgK92w6ZnIN"
      },
      "source": [
        "На этом задание завершено. Поздравляем!"
      ]
    }
  ],
  "metadata": {
    "accelerator": "GPU",
    "anaconda-cloud": {},
    "colab": {
      "provenance": []
    },
    "kernelspec": {
      "display_name": "Py3 Research",
      "language": "python",
      "name": "py3_research"
    },
    "language_info": {
      "codemirror_mode": {
        "name": "ipython",
        "version": 3
      },
      "file_extension": ".py",
      "mimetype": "text/x-python",
      "name": "python",
      "nbconvert_exporter": "python",
      "pygments_lexer": "ipython3",
      "version": "3.7.10"
    }
  },
  "nbformat": 4,
  "nbformat_minor": 0
}