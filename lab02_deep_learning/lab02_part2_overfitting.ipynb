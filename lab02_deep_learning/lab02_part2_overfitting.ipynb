{
  "cells": [
    {
      "cell_type": "markdown",
      "metadata": {
        "id": "NFmOh482SyEF"
      },
      "source": [
        "## Lab 2\n",
        "### Part 2: Dealing with overfitting"
      ]
    },
    {
      "cell_type": "markdown",
      "metadata": {
        "id": "AjzAuO3oSvsI"
      },
      "source": [
        "Today we work with [Fashion-MNIST dataset](https://github.com/zalandoresearch/fashion-mnist) (*hint: it is available in `torchvision`*).\n",
        "\n",
        "Your goal for today:\n",
        "1. Train a FC (fully-connected) network that achieves >= 0.885 test accuracy.\n",
        "2. Cause considerable overfitting by modifying the network (e.g. increasing the number of network parameters and/or layers) and demonstrate in in the appropriate way (e.g. plot loss and accurasy on train and validation set w.r.t. network complexity).\n",
        "3. Try to deal with overfitting (at least partially) by using regularization techniques (Dropout/Batchnorm/...) and demonstrate the results.\n",
        "\n",
        "__Please, write a small report describing your ideas, tries and achieved results in the end of this file.__\n",
        "\n",
        "*Note*: Tasks 2 and 3 are interrelated, in task 3 your goal is to make the network from task 2 less prone to overfitting. Task 1 is independent from 2 and 3.\n",
        "\n",
        "*Note 2*: We recomment to use Google Colab or other machine with GPU acceleration."
      ]
    },
    {
      "cell_type": "code",
      "execution_count": null,
      "metadata": {
        "id": "_KBld6VOSwhW"
      },
      "outputs": [],
      "source": [
        "import torch\n",
        "import torch.nn as nn\n",
        "import torchvision\n",
        "import torchvision.transforms as transforms\n",
        "import torchsummary\n",
        "from IPython.display import clear_output\n",
        "from matplotlib import pyplot as plt\n",
        "from matplotlib.pyplot import figure\n",
        "import numpy as np\n",
        "import os\n",
        "\n",
        "\n",
        "device = 'cuda:0' if torch.cuda.is_available() else 'cpu'"
      ]
    },
    {
      "cell_type": "code",
      "execution_count": null,
      "metadata": {
        "colab": {
          "base_uri": "https://localhost:8080/"
        },
        "id": "EdLOG0XqS_g5",
        "outputId": "7a0e66ac-9924-4cb4-c94f-433f4e33be9f"
      },
      "outputs": [
        {
          "output_type": "stream",
          "name": "stdout",
          "text": [
            "Directory fmnist is created!\n"
          ]
        }
      ],
      "source": [
        "# Technical function\n",
        "def mkdir(path):\n",
        "    if not os.path.exists(root_path):\n",
        "        os.mkdir(root_path)\n",
        "        print('Directory', path, 'is created!')\n",
        "    else:\n",
        "        print('Directory', path, 'already exists!')\n",
        "\n",
        "root_path = 'fmnist'\n",
        "mkdir(root_path)"
      ]
    },
    {
      "cell_type": "code",
      "execution_count": null,
      "metadata": {
        "id": "qt6LE7XaTDT9",
        "colab": {
          "base_uri": "https://localhost:8080/"
        },
        "outputId": "b595a24a-3497-4436-c5cf-1b3d1de40f5c"
      },
      "outputs": [
        {
          "output_type": "stream",
          "name": "stdout",
          "text": [
            "Downloading http://fashion-mnist.s3-website.eu-central-1.amazonaws.com/train-images-idx3-ubyte.gz\n",
            "Downloading http://fashion-mnist.s3-website.eu-central-1.amazonaws.com/train-images-idx3-ubyte.gz to fmnist/FashionMNIST/raw/train-images-idx3-ubyte.gz\n"
          ]
        },
        {
          "output_type": "stream",
          "name": "stderr",
          "text": [
            "100%|██████████| 26421880/26421880 [00:02<00:00, 11704616.98it/s]\n"
          ]
        },
        {
          "output_type": "stream",
          "name": "stdout",
          "text": [
            "Extracting fmnist/FashionMNIST/raw/train-images-idx3-ubyte.gz to fmnist/FashionMNIST/raw\n",
            "\n",
            "Downloading http://fashion-mnist.s3-website.eu-central-1.amazonaws.com/train-labels-idx1-ubyte.gz\n",
            "Downloading http://fashion-mnist.s3-website.eu-central-1.amazonaws.com/train-labels-idx1-ubyte.gz to fmnist/FashionMNIST/raw/train-labels-idx1-ubyte.gz\n"
          ]
        },
        {
          "output_type": "stream",
          "name": "stderr",
          "text": [
            "100%|██████████| 29515/29515 [00:00<00:00, 211320.06it/s]\n"
          ]
        },
        {
          "output_type": "stream",
          "name": "stdout",
          "text": [
            "Extracting fmnist/FashionMNIST/raw/train-labels-idx1-ubyte.gz to fmnist/FashionMNIST/raw\n",
            "\n",
            "Downloading http://fashion-mnist.s3-website.eu-central-1.amazonaws.com/t10k-images-idx3-ubyte.gz\n",
            "Downloading http://fashion-mnist.s3-website.eu-central-1.amazonaws.com/t10k-images-idx3-ubyte.gz to fmnist/FashionMNIST/raw/t10k-images-idx3-ubyte.gz\n"
          ]
        },
        {
          "output_type": "stream",
          "name": "stderr",
          "text": [
            "100%|██████████| 4422102/4422102 [00:01<00:00, 3904669.34it/s]\n"
          ]
        },
        {
          "output_type": "stream",
          "name": "stdout",
          "text": [
            "Extracting fmnist/FashionMNIST/raw/t10k-images-idx3-ubyte.gz to fmnist/FashionMNIST/raw\n",
            "\n",
            "Downloading http://fashion-mnist.s3-website.eu-central-1.amazonaws.com/t10k-labels-idx1-ubyte.gz\n",
            "Downloading http://fashion-mnist.s3-website.eu-central-1.amazonaws.com/t10k-labels-idx1-ubyte.gz to fmnist/FashionMNIST/raw/t10k-labels-idx1-ubyte.gz\n"
          ]
        },
        {
          "output_type": "stream",
          "name": "stderr",
          "text": [
            "100%|██████████| 5148/5148 [00:00<00:00, 11436587.39it/s]\n"
          ]
        },
        {
          "output_type": "stream",
          "name": "stdout",
          "text": [
            "Extracting fmnist/FashionMNIST/raw/t10k-labels-idx1-ubyte.gz to fmnist/FashionMNIST/raw\n",
            "\n"
          ]
        }
      ],
      "source": [
        "download = True\n",
        "train_transform = transforms.ToTensor()\n",
        "test_transform = transforms.ToTensor()\n",
        "transforms.Compose((transforms.ToTensor()))\n",
        "\n",
        "\n",
        "fmnist_dataset_train = torchvision.datasets.FashionMNIST(root_path,\n",
        "                                                        train=True,\n",
        "                                                        transform=train_transform,\n",
        "                                                        target_transform=None,\n",
        "                                                        download=download)\n",
        "fmnist_dataset_test = torchvision.datasets.FashionMNIST(root_path,\n",
        "                                                       train=False,\n",
        "                                                       transform=test_transform,\n",
        "                                                       target_transform=None,\n",
        "                                                       download=download)"
      ]
    },
    {
      "cell_type": "code",
      "execution_count": null,
      "metadata": {
        "id": "71YP0SPwTIxD"
      },
      "outputs": [],
      "source": [
        "train_loader = torch.utils.data.DataLoader(fmnist_dataset_train,\n",
        "                                           batch_size=128,\n",
        "                                           shuffle=True,\n",
        "                                           num_workers=2)\n",
        "test_loader = torch.utils.data.DataLoader(fmnist_dataset_test,\n",
        "                                          batch_size=256,\n",
        "                                          shuffle=False,\n",
        "                                          num_workers=2)"
      ]
    },
    {
      "cell_type": "code",
      "execution_count": null,
      "metadata": {
        "colab": {
          "base_uri": "https://localhost:8080/"
        },
        "id": "v_YFmF7NTWrQ",
        "outputId": "db3ed8e4-c0c3-4658-c2b5-0ff6388cd2ba"
      },
      "outputs": [
        {
          "output_type": "execute_result",
          "data": {
            "text/plain": [
              "10000"
            ]
          },
          "metadata": {},
          "execution_count": 5
        }
      ],
      "source": [
        "len(fmnist_dataset_test)"
      ]
    },
    {
      "cell_type": "code",
      "execution_count": null,
      "metadata": {
        "colab": {
          "base_uri": "https://localhost:8080/"
        },
        "id": "aHca15bOTY4B",
        "outputId": "0947dfe7-cd0f-4b56-837d-bd66ec8b1cc1"
      },
      "outputs": [
        {
          "output_type": "stream",
          "name": "stdout",
          "text": [
            "torch.Size([128, 1, 28, 28])\n",
            "torch.Size([128])\n",
            "128\n"
          ]
        }
      ],
      "source": [
        "for img, label in train_loader:\n",
        "    print(img.shape)\n",
        "#     print(img)\n",
        "    print(label.shape)\n",
        "    print(label.size(0))\n",
        "    break"
      ]
    },
    {
      "cell_type": "markdown",
      "metadata": {
        "id": "b6OOOffHTfX5"
      },
      "source": [
        "### Task 1\n",
        "Train a network that achieves $\\geq 0.885$ test accuracy. It's fine to use only Linear (`nn.Linear`) layers and activations/dropout/batchnorm. Convolutional layers might be a great use, but we will meet them a bit later."
      ]
    },
    {
      "cell_type": "code",
      "execution_count": null,
      "metadata": {
        "id": "ftpkTjxlTcFx"
      },
      "outputs": [],
      "source": [
        "class TinyNeuralNetwork(nn.Module):\n",
        "    def __init__(self, input_shape=28*28, num_classes=10, input_channels=1):\n",
        "        super(self.__class__, self).__init__()\n",
        "        self.model = nn.Sequential(\n",
        "            nn.Flatten(), # This layer converts image into a vector to use Linear layers afterwards\n",
        "            # Your network structure comes here\n",
        "            nn.Linear(input_shape, 16*16),\n",
        "            nn.Sigmoid(),\n",
        "            nn.BatchNorm1d(16*16),\n",
        "            nn.Dropout(p=0.5),\n",
        "            nn.Linear(16*16, 10*10),\n",
        "            nn.Sigmoid(),\n",
        "            nn.BatchNorm1d(10*10),\n",
        "            nn.Dropout(p=0.5),\n",
        "            nn.Linear(10*10, num_classes),\n",
        "            nn.ReLU()\n",
        "        )\n",
        "\n",
        "    def forward(self, inp):\n",
        "        out = self.model(inp)\n",
        "        return out"
      ]
    },
    {
      "cell_type": "code",
      "execution_count": null,
      "metadata": {
        "colab": {
          "base_uri": "https://localhost:8080/"
        },
        "id": "5kwlnp7qWBlo",
        "outputId": "f7307e86-4af8-4b20-973e-d94a8dfaf528"
      },
      "outputs": [
        {
          "output_type": "stream",
          "name": "stdout",
          "text": [
            "----------------------------------------------------------------\n",
            "        Layer (type)               Output Shape         Param #\n",
            "================================================================\n",
            "           Flatten-1                  [-1, 784]               0\n",
            "            Linear-2                  [-1, 256]         200,960\n",
            "           Sigmoid-3                  [-1, 256]               0\n",
            "       BatchNorm1d-4                  [-1, 256]             512\n",
            "           Dropout-5                  [-1, 256]               0\n",
            "            Linear-6                  [-1, 100]          25,700\n",
            "           Sigmoid-7                  [-1, 100]               0\n",
            "       BatchNorm1d-8                  [-1, 100]             200\n",
            "           Dropout-9                  [-1, 100]               0\n",
            "           Linear-10                   [-1, 10]           1,010\n",
            "             ReLU-11                   [-1, 10]               0\n",
            "================================================================\n",
            "Total params: 228,382\n",
            "Trainable params: 228,382\n",
            "Non-trainable params: 0\n",
            "----------------------------------------------------------------\n",
            "Input size (MB): 0.00\n",
            "Forward/backward pass size (MB): 0.02\n",
            "Params size (MB): 0.87\n",
            "Estimated Total Size (MB): 0.89\n",
            "----------------------------------------------------------------\n"
          ]
        }
      ],
      "source": [
        "torchsummary.summary(TinyNeuralNetwork().to(device), (28*28,))"
      ]
    },
    {
      "cell_type": "markdown",
      "metadata": {
        "id": "544PGKEnjPr5"
      },
      "source": [
        "Your experiments come here:"
      ]
    },
    {
      "cell_type": "code",
      "execution_count": null,
      "metadata": {
        "id": "i3POFj90Ti-6"
      },
      "outputs": [],
      "source": [
        "model = TinyNeuralNetwork().to(device)\n",
        "opt = torch.optim.Adam(model.parameters())\n",
        "loss_func = nn.CrossEntropyLoss()\n",
        "\n",
        "# Your experiments, training and validation loops here"
      ]
    },
    {
      "cell_type": "code",
      "source": [
        "def train(model, train_loader, val_loader, loss_func, opt, epochs=5, device=device):\n",
        "    train_loss = []\n",
        "    val_loss = []\n",
        "    val_accuracy = []\n",
        "\n",
        "    for epoch in range(epochs):\n",
        "        cur_train_loss = []\n",
        "        cur_val_loss = []\n",
        "        cur_val_accuracy = []\n",
        "\n",
        "        model.train(True)\n",
        "        for x_batch, y_batch in train_loader:\n",
        "            opt.zero_grad()\n",
        "            x_batch, y_batch = x_batch.to(device), y_batch.to(device)\n",
        "            out = model(x_batch)\n",
        "            loss = loss_func(out, y_batch)\n",
        "            loss.backward()\n",
        "            opt.step()\n",
        "            cur_train_loss.append(loss.item())\n",
        "\n",
        "        model.train(False)\n",
        "        with torch.no_grad():\n",
        "            for x_batch, y_batch in val_loader:\n",
        "                x_batch, y_batch = x_batch.to(device), y_batch.to(device)\n",
        "                out = model(x_batch)\n",
        "                loss = loss_func(out, y_batch)\n",
        "\n",
        "                cur_val_loss.append(loss.item())\n",
        "                y_pred = out.max(-1)[1]\n",
        "                cur_val_accuracy.append(np.sum(y_batch.numpy() == y_pred.numpy())/ len(y_batch))\n",
        "\n",
        "        train_loss.append(np.mean(cur_train_loss))\n",
        "        val_loss.append(np.mean(cur_val_loss))\n",
        "        val_accuracy.append(np.mean(cur_val_accuracy))\n",
        "\n",
        "        print(\"Epoch \", epoch)\n",
        "        print(\"\\t Training loss: \", train_loss[-1])\n",
        "        print(\"\\t Validation loss: \", val_loss[-1])\n",
        "        print(\"\\t Validation accuracy: \", val_accuracy[-1])\n",
        "\n",
        "    return train_loss, val_loss, val_accuracy\n",
        "\n",
        "train_loss, val_loss, val_accuracy = train(model, train_loader, test_loader, loss_func, opt, epochs=30)"
      ],
      "metadata": {
        "colab": {
          "base_uri": "https://localhost:8080/"
        },
        "id": "M7Fvs72uaQzG",
        "outputId": "ac95fc1c-c38b-41a9-f5b6-978761869c6f"
      },
      "execution_count": null,
      "outputs": [
        {
          "output_type": "stream",
          "name": "stdout",
          "text": [
            "Epoch  0\n",
            "\t Training loss:  0.49068386786019624\n",
            "\t Validation loss:  0.44566580206155776\n",
            "\t Validation accuracy:  0.83916015625\n",
            "Epoch  1\n",
            "\t Training loss:  0.46331945271380165\n",
            "\t Validation loss:  0.4331838272511959\n",
            "\t Validation accuracy:  0.84326171875\n",
            "Epoch  2\n",
            "\t Training loss:  0.44815965076245223\n",
            "\t Validation loss:  0.42211907021701334\n",
            "\t Validation accuracy:  0.84580078125\n",
            "Epoch  3\n",
            "\t Training loss:  0.4301558933469024\n",
            "\t Validation loss:  0.41779434159398077\n",
            "\t Validation accuracy:  0.84580078125\n",
            "Epoch  4\n",
            "\t Training loss:  0.422860736754149\n",
            "\t Validation loss:  0.39819501861929896\n",
            "\t Validation accuracy:  0.85693359375\n",
            "Epoch  5\n",
            "\t Training loss:  0.4104830630298362\n",
            "\t Validation loss:  0.38140567019581795\n",
            "\t Validation accuracy:  0.8615234375\n",
            "Epoch  6\n",
            "\t Training loss:  0.39978846599425333\n",
            "\t Validation loss:  0.3796224560588598\n",
            "\t Validation accuracy:  0.8595703125\n",
            "Epoch  7\n",
            "\t Training loss:  0.3917333038885202\n",
            "\t Validation loss:  0.3717966366559267\n",
            "\t Validation accuracy:  0.86640625\n",
            "Epoch  8\n",
            "\t Training loss:  0.3835190526648625\n",
            "\t Validation loss:  0.3733652412891388\n",
            "\t Validation accuracy:  0.86552734375\n",
            "Epoch  9\n",
            "\t Training loss:  0.3790401651470392\n",
            "\t Validation loss:  0.40926575735211373\n",
            "\t Validation accuracy:  0.848828125\n",
            "Epoch  10\n",
            "\t Training loss:  0.3695140871793222\n",
            "\t Validation loss:  0.37237345017492773\n",
            "\t Validation accuracy:  0.8662109375\n",
            "Epoch  11\n",
            "\t Training loss:  0.3647943968012897\n",
            "\t Validation loss:  0.3511640977114439\n",
            "\t Validation accuracy:  0.876171875\n",
            "Epoch  12\n",
            "\t Training loss:  0.35957918111195186\n",
            "\t Validation loss:  0.3549605417996645\n",
            "\t Validation accuracy:  0.8716796875\n",
            "Epoch  13\n",
            "\t Training loss:  0.35715629932468634\n",
            "\t Validation loss:  0.3508850455284119\n",
            "\t Validation accuracy:  0.87353515625\n",
            "Epoch  14\n",
            "\t Training loss:  0.35143422333797664\n",
            "\t Validation loss:  0.3442789603024721\n",
            "\t Validation accuracy:  0.87705078125\n",
            "Epoch  15\n",
            "\t Training loss:  0.3468397568855713\n",
            "\t Validation loss:  0.33844688571989534\n",
            "\t Validation accuracy:  0.87841796875\n",
            "Epoch  16\n",
            "\t Training loss:  0.33912936307346897\n",
            "\t Validation loss:  0.343290987983346\n",
            "\t Validation accuracy:  0.8783203125\n",
            "Epoch  17\n",
            "\t Training loss:  0.33429759054549973\n",
            "\t Validation loss:  0.3394603721797466\n",
            "\t Validation accuracy:  0.87626953125\n",
            "Epoch  18\n",
            "\t Training loss:  0.3321965196684225\n",
            "\t Validation loss:  0.3356835961341858\n",
            "\t Validation accuracy:  0.87978515625\n",
            "Epoch  19\n",
            "\t Training loss:  0.3276027254521974\n",
            "\t Validation loss:  0.3373108783736825\n",
            "\t Validation accuracy:  0.88037109375\n",
            "Epoch  20\n",
            "\t Training loss:  0.32878060870841624\n",
            "\t Validation loss:  0.34090129397809504\n",
            "\t Validation accuracy:  0.87880859375\n",
            "Epoch  21\n",
            "\t Training loss:  0.319057257953229\n",
            "\t Validation loss:  0.3395478531718254\n",
            "\t Validation accuracy:  0.879296875\n",
            "Epoch  22\n",
            "\t Training loss:  0.32028025163135043\n",
            "\t Validation loss:  0.3273549258708954\n",
            "\t Validation accuracy:  0.8814453125\n",
            "Epoch  23\n",
            "\t Training loss:  0.31502246065561706\n",
            "\t Validation loss:  0.3257979404181242\n",
            "\t Validation accuracy:  0.88271484375\n",
            "Epoch  24\n",
            "\t Training loss:  0.31037892909573594\n",
            "\t Validation loss:  0.324220185354352\n",
            "\t Validation accuracy:  0.88447265625\n",
            "Epoch  25\n",
            "\t Training loss:  0.30835510262929555\n",
            "\t Validation loss:  0.3238308381289244\n",
            "\t Validation accuracy:  0.8833984375\n",
            "Epoch  26\n",
            "\t Training loss:  0.30559948857214403\n",
            "\t Validation loss:  0.32659343294799326\n",
            "\t Validation accuracy:  0.88193359375\n",
            "Epoch  27\n",
            "\t Training loss:  0.30215491402123784\n",
            "\t Validation loss:  0.330913795158267\n",
            "\t Validation accuracy:  0.88330078125\n",
            "Epoch  28\n",
            "\t Training loss:  0.3023783393633137\n",
            "\t Validation loss:  0.32290196493268014\n",
            "\t Validation accuracy:  0.8853515625\n",
            "Epoch  29\n",
            "\t Training loss:  0.2995860969334015\n",
            "\t Validation loss:  0.3206143546849489\n",
            "\t Validation accuracy:  0.88544921875\n"
          ]
        }
      ]
    },
    {
      "cell_type": "code",
      "source": [
        "plt.xlabel(\"Epoch\")\n",
        "plt.ylabel(\"Loss\")\n",
        "plt.plot(np.arange(len(train_loss)), train_loss, label=\"Train loss\")\n",
        "plt.plot(np.arange(len(val_loss)), val_loss, label=\"Val loss\")\n",
        "plt.legend()\n",
        "plt.title(\"Model loss\")\n",
        "plt.show()"
      ],
      "metadata": {
        "colab": {
          "base_uri": "https://localhost:8080/",
          "height": 472
        },
        "id": "a2o3H5c-njtY",
        "outputId": "6dce8383-4972-4ab4-f586-8aca62ace6cb"
      },
      "execution_count": null,
      "outputs": [
        {
          "output_type": "display_data",
          "data": {
            "text/plain": [
              "<Figure size 640x480 with 1 Axes>"
            ],
            "image/png": "[encoded data removed]"
          },
          "metadata": {}
        }
      ]
    },
    {
      "cell_type": "markdown",
      "metadata": {
        "id": "L7ISqkjmCPB1"
      },
      "source": [
        "### Task 2: Overfit it.\n",
        "Build a network that will overfit to this dataset. Demonstrate the overfitting in the appropriate way (e.g. plot loss and accurasy on train and test set w.r.t. network complexity).\n",
        "\n",
        "*Note:* you also might decrease the size of `train` dataset to enforce the overfitting and speed up the computations."
      ]
    },
    {
      "cell_type": "code",
      "execution_count": null,
      "metadata": {
        "id": "H12uAWiGBwJx"
      },
      "outputs": [],
      "source": [
        "class OverfittingNeuralNetwork(nn.Module):\n",
        "    def __init__(self, input_shape=28*28, num_classes=10, input_channels=1):\n",
        "        super(self.__class__, self).__init__()\n",
        "        self.model = nn.Sequential(\n",
        "            nn.Flatten(), # This layer converts image into a vector to use Linear layers afterwards\n",
        "            # Your network structure comes here\n",
        "            nn.Linear(input_shape, 500),\n",
        "            nn.Sigmoid(),\n",
        "            nn.Linear(500, 200),\n",
        "            nn.Sigmoid(),\n",
        "            nn.Linear(200, num_classes),\n",
        "            nn.ReLU()\n",
        "        )\n",
        "\n",
        "    def forward(self, inp):\n",
        "        out = self.model(inp)\n",
        "        return out"
      ]
    },
    {
      "cell_type": "code",
      "execution_count": null,
      "metadata": {
        "colab": {
          "base_uri": "https://localhost:8080/"
        },
        "id": "JgXAKCpvCwqH",
        "outputId": "f8dfbba2-29aa-4381-a689-94b0ee119b6f"
      },
      "outputs": [
        {
          "output_type": "stream",
          "name": "stdout",
          "text": [
            "----------------------------------------------------------------\n",
            "        Layer (type)               Output Shape         Param #\n",
            "================================================================\n",
            "           Flatten-1                  [-1, 784]               0\n",
            "            Linear-2                  [-1, 500]         392,500\n",
            "           Sigmoid-3                  [-1, 500]               0\n",
            "            Linear-4                  [-1, 200]         100,200\n",
            "           Sigmoid-5                  [-1, 200]               0\n",
            "            Linear-6                   [-1, 10]           2,010\n",
            "              ReLU-7                   [-1, 10]               0\n",
            "================================================================\n",
            "Total params: 494,710\n",
            "Trainable params: 494,710\n",
            "Non-trainable params: 0\n",
            "----------------------------------------------------------------\n",
            "Input size (MB): 0.00\n",
            "Forward/backward pass size (MB): 0.02\n",
            "Params size (MB): 1.89\n",
            "Estimated Total Size (MB): 1.91\n",
            "----------------------------------------------------------------\n"
          ]
        }
      ],
      "source": [
        "torchsummary.summary(OverfittingNeuralNetwork().to(device), (28*28,))"
      ]
    },
    {
      "cell_type": "code",
      "execution_count": null,
      "metadata": {
        "colab": {
          "base_uri": "https://localhost:8080/"
        },
        "id": "4jK_ZZiXWBlp",
        "outputId": "31b319f2-2d43-44fb-f6da-e60bda3dba42"
      },
      "outputs": [
        {
          "output_type": "stream",
          "name": "stdout",
          "text": [
            "Epoch  0\n",
            "\t Training loss:  2.1334585256413865\n",
            "\t Validation loss:  2.112171047925949\n",
            "\t Validation accuracy:  0.19482421875\n",
            "Epoch  1\n",
            "\t Training loss:  2.1072842530858544\n",
            "\t Validation loss:  2.1082963347434998\n",
            "\t Validation accuracy:  0.1955078125\n",
            "Epoch  2\n",
            "\t Training loss:  2.103688325200762\n",
            "\t Validation loss:  2.1055239111185076\n",
            "\t Validation accuracy:  0.1953125\n",
            "Epoch  3\n",
            "\t Training loss:  2.1021377252363194\n",
            "\t Validation loss:  2.1077406257390976\n",
            "\t Validation accuracy:  0.195703125\n",
            "Epoch  4\n",
            "\t Training loss:  2.1008621225479063\n",
            "\t Validation loss:  2.1039636462926863\n",
            "\t Validation accuracy:  0.19580078125\n",
            "Epoch  5\n",
            "\t Training loss:  2.098419756777505\n",
            "\t Validation loss:  2.1027431756258013\n",
            "\t Validation accuracy:  0.194921875\n",
            "Epoch  6\n",
            "\t Training loss:  2.0970058858013356\n",
            "\t Validation loss:  2.10166372358799\n",
            "\t Validation accuracy:  0.19521484375\n",
            "Epoch  7\n",
            "\t Training loss:  2.0959088332109106\n",
            "\t Validation loss:  2.102936640381813\n",
            "\t Validation accuracy:  0.19462890625\n",
            "Epoch  8\n",
            "\t Training loss:  2.0951497211639305\n",
            "\t Validation loss:  2.1088627099990847\n",
            "\t Validation accuracy:  0.19609375\n",
            "Epoch  9\n",
            "\t Training loss:  2.0933731636767194\n",
            "\t Validation loss:  2.1016452729701998\n",
            "\t Validation accuracy:  0.19443359375\n",
            "Epoch  10\n",
            "\t Training loss:  2.0921594171381708\n",
            "\t Validation loss:  2.105504161119461\n",
            "\t Validation accuracy:  0.19599609375\n",
            "Epoch  11\n",
            "\t Training loss:  2.0912255816368153\n",
            "\t Validation loss:  2.0982613652944564\n",
            "\t Validation accuracy:  0.19541015625\n",
            "Epoch  12\n",
            "\t Training loss:  2.0901063723858995\n",
            "\t Validation loss:  2.0988077521324158\n",
            "\t Validation accuracy:  0.19560546875\n",
            "Epoch  13\n",
            "\t Training loss:  2.0893317671981193\n",
            "\t Validation loss:  2.1021825850009916\n",
            "\t Validation accuracy:  0.19580078125\n",
            "Epoch  14\n",
            "\t Training loss:  2.0885686782885715\n",
            "\t Validation loss:  2.098285111784935\n",
            "\t Validation accuracy:  0.1951171875\n",
            "Epoch  15\n",
            "\t Training loss:  2.0876470006096848\n",
            "\t Validation loss:  2.0973125219345095\n",
            "\t Validation accuracy:  0.194921875\n",
            "Epoch  16\n",
            "\t Training loss:  2.0868736902025464\n",
            "\t Validation loss:  2.0969407856464386\n",
            "\t Validation accuracy:  0.1953125\n",
            "Epoch  17\n",
            "\t Training loss:  2.085931770074596\n",
            "\t Validation loss:  2.0976920157670973\n",
            "\t Validation accuracy:  0.19521484375\n",
            "Epoch  18\n",
            "\t Training loss:  2.0857865637553528\n",
            "\t Validation loss:  2.0962147653102874\n",
            "\t Validation accuracy:  0.19501953125\n",
            "Epoch  19\n",
            "\t Training loss:  2.0854338021166545\n",
            "\t Validation loss:  2.0966785073280336\n",
            "\t Validation accuracy:  0.1953125\n",
            "Epoch  20\n",
            "\t Training loss:  2.0846264156451357\n",
            "\t Validation loss:  2.096333286166191\n",
            "\t Validation accuracy:  0.19521484375\n",
            "Epoch  21\n",
            "\t Training loss:  2.0833714885243984\n",
            "\t Validation loss:  2.0968201637268065\n",
            "\t Validation accuracy:  0.194921875\n",
            "Epoch  22\n",
            "\t Training loss:  2.0839169780328586\n",
            "\t Validation loss:  2.0993064880371093\n",
            "\t Validation accuracy:  0.1951171875\n",
            "Epoch  23\n",
            "\t Training loss:  2.082851947751889\n",
            "\t Validation loss:  2.097008857131004\n",
            "\t Validation accuracy:  0.19501953125\n",
            "Epoch  24\n",
            "\t Training loss:  2.081959475078054\n",
            "\t Validation loss:  2.0992806196212768\n",
            "\t Validation accuracy:  0.19462890625\n",
            "Epoch  25\n",
            "\t Training loss:  2.0818138214062527\n",
            "\t Validation loss:  2.1002976089715957\n",
            "\t Validation accuracy:  0.19296875\n",
            "Epoch  26\n",
            "\t Training loss:  2.0814898354666576\n",
            "\t Validation loss:  2.098522648215294\n",
            "\t Validation accuracy:  0.19443359375\n",
            "Epoch  27\n",
            "\t Training loss:  2.081412718240132\n",
            "\t Validation loss:  2.1003508031368257\n",
            "\t Validation accuracy:  0.19501953125\n",
            "Epoch  28\n",
            "\t Training loss:  2.0809019532030835\n",
            "\t Validation loss:  2.098101368546486\n",
            "\t Validation accuracy:  0.19462890625\n",
            "Epoch  29\n",
            "\t Training loss:  2.081123053646291\n",
            "\t Validation loss:  2.09895960688591\n",
            "\t Validation accuracy:  0.19365234375\n"
          ]
        }
      ],
      "source": [
        "model = OverfittingNeuralNetwork().to(device)\n",
        "opt = torch.optim.Adam(model.parameters())\n",
        "loss_func = nn.CrossEntropyLoss()\n",
        "\n",
        "# Your experiments, training and validation loops here\n",
        "train_loss, val_loss, val_accuracy = train(model, train_loader, test_loader, loss_func, opt, epochs=30)"
      ]
    },
    {
      "cell_type": "code",
      "source": [
        "plt.xlabel(\"Epoch\")\n",
        "plt.ylabel(\"Loss\")\n",
        "plt.plot(np.arange(len(train_loss)), train_loss, label=\"Train loss\")\n",
        "plt.plot(np.arange(len(val_loss)), val_loss, label=\"Val loss\")\n",
        "plt.legend()\n",
        "plt.title(\"Model loss\")\n",
        "plt.show()"
      ],
      "metadata": {
        "colab": {
          "base_uri": "https://localhost:8080/",
          "height": 472
        },
        "id": "aMnSId4_uAqF",
        "outputId": "097f128d-b77c-4161-8446-c432fb5b348a"
      },
      "execution_count": null,
      "outputs": [
        {
          "output_type": "display_data",
          "data": {
            "text/plain": [
              "<Figure size 640x480 with 1 Axes>"
            ],
            "image/png": "[encoded data removed]"
          },
          "metadata": {}
        }
      ]
    },
    {
      "cell_type": "markdown",
      "metadata": {
        "id": "TRS5lKklWBlp"
      },
      "source": [
        "### Task 3: Fix it.\n",
        "Fix the overfitted network from the previous step (at least partially) by using regularization techniques (Dropout/Batchnorm/...) and demonstrate the results."
      ]
    },
    {
      "cell_type": "code",
      "execution_count": null,
      "metadata": {
        "id": "Zc50qb9HWBlp"
      },
      "outputs": [],
      "source": [
        "class FixedNeuralNetwork(nn.Module):\n",
        "    def __init__(self, input_shape=28*28, num_classes=10, input_channels=1):\n",
        "        super(self.__class__, self).__init__()\n",
        "        self.model = nn.Sequential(\n",
        "            nn.Flatten(), # This layer converts image into a vector to use Linear layers afterwards\n",
        "            # Your network structure comes here\n",
        "            nn.Linear(input_shape, 500),\n",
        "            nn.Sigmoid(),\n",
        "            nn.BatchNorm1d(500),\n",
        "            nn.Dropout(p=0.5),\n",
        "            nn.Linear(500, 200),\n",
        "            nn.Sigmoid(),\n",
        "            nn.BatchNorm1d(200),\n",
        "            nn.Dropout(p=0.5),\n",
        "            nn.Linear(200, num_classes),\n",
        "            nn.ReLU()\n",
        "        )\n",
        "\n",
        "    def forward(self, inp):\n",
        "        out = self.model(inp)\n",
        "        return out"
      ]
    },
    {
      "cell_type": "code",
      "execution_count": null,
      "metadata": {
        "colab": {
          "base_uri": "https://localhost:8080/"
        },
        "id": "y_UdrTOeWBlp",
        "outputId": "a46bba35-0ed4-49cd-f51b-713dc02d1cd1"
      },
      "outputs": [
        {
          "output_type": "stream",
          "name": "stdout",
          "text": [
            "----------------------------------------------------------------\n",
            "        Layer (type)               Output Shape         Param #\n",
            "================================================================\n",
            "           Flatten-1                  [-1, 784]               0\n",
            "            Linear-2                  [-1, 500]         392,500\n",
            "           Sigmoid-3                  [-1, 500]               0\n",
            "       BatchNorm1d-4                  [-1, 500]           1,000\n",
            "           Dropout-5                  [-1, 500]               0\n",
            "            Linear-6                  [-1, 200]         100,200\n",
            "           Sigmoid-7                  [-1, 200]               0\n",
            "       BatchNorm1d-8                  [-1, 200]             400\n",
            "           Dropout-9                  [-1, 200]               0\n",
            "           Linear-10                   [-1, 10]           2,010\n",
            "             ReLU-11                   [-1, 10]               0\n",
            "================================================================\n",
            "Total params: 496,110\n",
            "Trainable params: 496,110\n",
            "Non-trainable params: 0\n",
            "----------------------------------------------------------------\n",
            "Input size (MB): 0.00\n",
            "Forward/backward pass size (MB): 0.03\n",
            "Params size (MB): 1.89\n",
            "Estimated Total Size (MB): 1.92\n",
            "----------------------------------------------------------------\n"
          ]
        }
      ],
      "source": [
        "torchsummary.summary(FixedNeuralNetwork().to(device), (28*28,))"
      ]
    },
    {
      "cell_type": "code",
      "execution_count": null,
      "metadata": {
        "colab": {
          "base_uri": "https://localhost:8080/"
        },
        "id": "pkRp7PtXWBlp",
        "outputId": "30d4e001-ea1b-4ad6-e845-bffa82c39c2d"
      },
      "outputs": [
        {
          "output_type": "stream",
          "name": "stdout",
          "text": [
            "Epoch  0\n",
            "\t Training loss:  0.5640907032784622\n",
            "\t Validation loss:  0.4649277120828629\n",
            "\t Validation accuracy:  0.8330078125\n",
            "Epoch  1\n",
            "\t Training loss:  0.4670729601878856\n",
            "\t Validation loss:  0.43379193283617495\n",
            "\t Validation accuracy:  0.84482421875\n",
            "Epoch  2\n",
            "\t Training loss:  0.4356685518455912\n",
            "\t Validation loss:  0.43973280265927317\n",
            "\t Validation accuracy:  0.84375\n",
            "Epoch  3\n",
            "\t Training loss:  0.41593576011373035\n",
            "\t Validation loss:  0.40026580132544043\n",
            "\t Validation accuracy:  0.85390625\n",
            "Epoch  4\n",
            "\t Training loss:  0.3988626889709725\n",
            "\t Validation loss:  0.3909584142267704\n",
            "\t Validation accuracy:  0.85703125\n",
            "Epoch  5\n",
            "\t Training loss:  0.3895809801339086\n",
            "\t Validation loss:  0.4078129012137651\n",
            "\t Validation accuracy:  0.85244140625\n",
            "Epoch  6\n",
            "\t Training loss:  0.3770929567023381\n",
            "\t Validation loss:  0.3713619980961084\n",
            "\t Validation accuracy:  0.86708984375\n",
            "Epoch  7\n",
            "\t Training loss:  0.37101858129887694\n",
            "\t Validation loss:  0.35434248112142086\n",
            "\t Validation accuracy:  0.873046875\n",
            "Epoch  8\n",
            "\t Training loss:  0.3626824736213887\n",
            "\t Validation loss:  0.36522590517997744\n",
            "\t Validation accuracy:  0.8703125\n",
            "Epoch  9\n",
            "\t Training loss:  0.3552604072701448\n",
            "\t Validation loss:  0.3512552659958601\n",
            "\t Validation accuracy:  0.8751953125\n",
            "Epoch  10\n",
            "\t Training loss:  0.34728748105100987\n",
            "\t Validation loss:  0.3493368048220873\n",
            "\t Validation accuracy:  0.8744140625\n",
            "Epoch  11\n",
            "\t Training loss:  0.3393752166647901\n",
            "\t Validation loss:  0.3457159291952848\n",
            "\t Validation accuracy:  0.87314453125\n",
            "Epoch  12\n",
            "\t Training loss:  0.33221387793260343\n",
            "\t Validation loss:  0.33095741663128136\n",
            "\t Validation accuracy:  0.88154296875\n",
            "Epoch  13\n",
            "\t Training loss:  0.32887208496710896\n",
            "\t Validation loss:  0.3307347193360329\n",
            "\t Validation accuracy:  0.88212890625\n",
            "Epoch  14\n",
            "\t Training loss:  0.3230567318734838\n",
            "\t Validation loss:  0.33534593172371385\n",
            "\t Validation accuracy:  0.87861328125\n",
            "Epoch  15\n",
            "\t Training loss:  0.31529610319686596\n",
            "\t Validation loss:  0.33598294872790574\n",
            "\t Validation accuracy:  0.88095703125\n",
            "Epoch  16\n",
            "\t Training loss:  0.3116534005667863\n",
            "\t Validation loss:  0.3303232256323099\n",
            "\t Validation accuracy:  0.88251953125\n",
            "Epoch  17\n",
            "\t Training loss:  0.3090193315164875\n",
            "\t Validation loss:  0.32615975141525266\n",
            "\t Validation accuracy:  0.88173828125\n",
            "Epoch  18\n",
            "\t Training loss:  0.30315183042717386\n",
            "\t Validation loss:  0.32560440376400945\n",
            "\t Validation accuracy:  0.882421875\n",
            "Epoch  19\n",
            "\t Training loss:  0.30053865045372613\n",
            "\t Validation loss:  0.3195324560627341\n",
            "\t Validation accuracy:  0.8861328125\n"
          ]
        }
      ],
      "source": [
        "model = FixedNeuralNetwork().to(device)\n",
        "opt = torch.optim.Adam(model.parameters())\n",
        "loss_func = nn.CrossEntropyLoss()\n",
        "\n",
        "# Your experiments, training and validation loops here\n",
        "train_loss, val_loss, val_accuracy = train(model, train_loader, test_loader, loss_func, opt, epochs=20)"
      ]
    },
    {
      "cell_type": "code",
      "source": [
        "plt.xlabel(\"Epoch\")\n",
        "plt.ylabel(\"Loss\")\n",
        "plt.plot(np.arange(len(train_loss)), train_loss, label=\"Train loss\")\n",
        "plt.plot(np.arange(len(val_loss)), val_loss, label=\"Val loss\")\n",
        "plt.legend()\n",
        "plt.title(\"Model loss\")\n",
        "plt.show()"
      ],
      "metadata": {
        "colab": {
          "base_uri": "https://localhost:8080/",
          "height": 472
        },
        "id": "AH9ccsK8u00z",
        "outputId": "5d733a19-3de7-462b-c84b-174c5c21d6cf"
      },
      "execution_count": null,
      "outputs": [
        {
          "output_type": "display_data",
          "data": {
            "text/plain": [
              "<Figure size 640x480 with 1 Axes>"
            ],
            "image/png": "[encoded data removed]"
          },
          "metadata": {}
        }
      ]
    },
    {
      "cell_type": "markdown",
      "metadata": {
        "id": "dMui_uLJ7G0d"
      },
      "source": [
        "### Conclusions:\n",
        "Dropout,Batchnorm help to prevent model overfitting. Also we should determine appropriate epochs count during internal experiments"
      ]
    }
  ],
  "metadata": {
    "accelerator": "GPU",
    "colab": {
      "provenance": []
    },
    "kernelspec": {
      "display_name": "Python 3",
      "language": "python",
      "name": "python3"
    },
    "language_info": {
      "codemirror_mode": {
        "name": "ipython",
        "version": 3
      },
      "file_extension": ".py",
      "mimetype": "text/x-python",
      "name": "python",
      "nbconvert_exporter": "python",
      "pygments_lexer": "ipython3",
      "version": "3.7.7"
    }
  },
  "nbformat": 4,
  "nbformat_minor": 0
}