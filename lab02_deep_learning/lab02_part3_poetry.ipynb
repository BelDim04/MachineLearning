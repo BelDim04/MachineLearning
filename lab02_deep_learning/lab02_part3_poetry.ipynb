{
  "cells": [
    {
      "cell_type": "markdown",
      "metadata": {
        "id": "N2-8YDyaWOQI"
      },
      "source": [
        "## Lab 2"
      ]
    },
    {
      "cell_type": "markdown",
      "metadata": {
        "id": "-5I4oeWPWOQJ"
      },
      "source": [
        "### Part 3. Poetry generation\n",
        "\n",
        "Let's try to generate some poetry using RNNs.\n",
        "\n",
        "You have several choices here:\n",
        "\n",
        "* The Shakespeare sonnets, file `sonnets.txt` available in the notebook directory.\n",
        "\n",
        "* Роман в стихах \"Евгений Онегин\" Александра Сергеевича Пушкина. В предобработанном виде доступен по [ссылке](https://github.com/attatrol/data_sources/blob/master/onegin.txt).\n",
        "\n",
        "* Some other text source, if it will be approved by the course staff.\n",
        "\n",
        "Text generation can be designed in several steps:\n",
        "    \n",
        "1. Data loading.\n",
        "2. Dictionary generation.\n",
        "3. Data preprocessing.\n",
        "4. Model (neural network) training.\n",
        "5. Text generation (model evaluation).\n"
      ]
    },
    {
      "cell_type": "code",
      "execution_count": null,
      "metadata": {
        "id": "FH6jnAzQWOQK"
      },
      "outputs": [],
      "source": [
        "import string\n",
        "import os\n",
        "import numpy as np\n",
        "import torch, torch.nn as nn\n",
        "import torch.nn.functional as F\n",
        "from typing import Tuple, List, Type, Dict, Any\n",
        "import matplotlib.pyplot as plt"
      ]
    },
    {
      "cell_type": "markdown",
      "metadata": {
        "id": "OZdJrLu7WOQK"
      },
      "source": [
        "### Data loading: Shakespeare"
      ]
    },
    {
      "cell_type": "markdown",
      "metadata": {
        "id": "3ecKSju7WOQK"
      },
      "source": [
        "Shakespeare sonnets are awailable at this [link](http://www.gutenberg.org/ebooks/1041?msg=welcome_stranger). In addition, they are stored in the same directory as this notebook (`sonnetes.txt`). Simple preprocessing is already done for you in the next cell: all technical info is dropped."
      ]
    },
    {
      "cell_type": "code",
      "execution_count": null,
      "metadata": {
        "collapsed": true,
        "id": "XxdQqTNkWOQL"
      },
      "outputs": [],
      "source": [
        "if not os.path.exists('sonnets.txt'):\n",
        "    !wget https://raw.githubusercontent.com/girafe-ai/ml-course/22f_basic/homeworks_basic/lab02_deep_learning/sonnets.txt\n",
        "\n",
        "with open('sonnets.txt', 'r') as iofile:\n",
        "    text = iofile.readlines()\n",
        "\n",
        "TEXT_START = 45\n",
        "TEXT_END = -368\n",
        "text = text[TEXT_START : TEXT_END]\n",
        "assert len(text) == 2616"
      ]
    },
    {
      "cell_type": "markdown",
      "metadata": {
        "id": "MHXFUbpOWOQL"
      },
      "source": [
        "In opposite to the in-class practice, this time we want to predict complex text. Let's reduce the complexity of the task and lowercase all the symbols.\n",
        "\n",
        "Now variable `text` is a list of strings. Join all the strings into one and lowercase it."
      ]
    },
    {
      "cell_type": "code",
      "execution_count": null,
      "metadata": {
        "colab": {
          "base_uri": "https://localhost:8080/"
        },
        "id": "JNEQWB6bWOQL",
        "outputId": "f9895708-8216-48f2-cfdf-85cbae3b9325"
      },
      "outputs": [
        {
          "output_type": "stream",
          "name": "stdout",
          "text": [
            "OK!\n"
          ]
        }
      ],
      "source": [
        "# Join all the strings into one and lowercase it\n",
        "# Put result into variable text.\n",
        "\n",
        "# Your great code here\n",
        "text = \"\".join(text).lower()\n",
        "\n",
        "assert len(text) == 100225, 'Are you sure you have concatenated all the strings?'\n",
        "assert not any([x in set(text) for x in string.ascii_uppercase]), 'Uppercase letters are present'\n",
        "print('OK!')"
      ]
    },
    {
      "cell_type": "markdown",
      "metadata": {
        "id": "UmbceLrVWOQL"
      },
      "source": [
        "### Data loading: \"Евгений Онегин\"\n"
      ]
    },
    {
      "cell_type": "code",
      "execution_count": null,
      "metadata": {
        "colab": {
          "base_uri": "https://localhost:8080/"
        },
        "id": "yMk62fJaWOQL",
        "outputId": "0abc0ee0-bf2d-4059-a060-8908eff1f42f"
      },
      "outputs": [
        {
          "output_type": "stream",
          "name": "stdout",
          "text": [
            "--2023-12-14 15:31:19--  https://raw.githubusercontent.com/attatrol/data_sources/master/onegin.txt\n",
            "Resolving raw.githubusercontent.com (raw.githubusercontent.com)... 185.199.108.133, 185.199.111.133, 185.199.109.133, ...\n",
            "Connecting to raw.githubusercontent.com (raw.githubusercontent.com)|185.199.108.133|:443... connected.\n",
            "HTTP request sent, awaiting response... 200 OK\n",
            "Length: 262521 (256K) [text/plain]\n",
            "Saving to: ‘onegin.txt.1’\n",
            "\n",
            "\ronegin.txt.1          0%[                    ]       0  --.-KB/s               \ronegin.txt.1        100%[===================>] 256.37K  --.-KB/s    in 0.01s   \n",
            "\n",
            "2023-12-14 15:31:19 (20.3 MB/s) - ‘onegin.txt.1’ saved [262521/262521]\n",
            "\n"
          ]
        }
      ],
      "source": [
        "!wget https://raw.githubusercontent.com/attatrol/data_sources/master/onegin.txt\n",
        "\n",
        "with open('onegin.txt', 'r') as iofile:\n",
        "    text2 = iofile.readlines()\n",
        "\n",
        "text2 = [x.replace('\\t\\t', '') for x in text2]"
      ]
    },
    {
      "cell_type": "markdown",
      "metadata": {
        "id": "a40NV0UEWOQM"
      },
      "source": [
        "In opposite to the in-class practice, this time we want to predict complex text. Let's reduce the complexity of the task and lowercase all the symbols.\n",
        "\n",
        "Now variable `text` is a list of strings. Join all the strings into one and lowercase it."
      ]
    },
    {
      "cell_type": "code",
      "execution_count": null,
      "metadata": {
        "id": "D70tH55QWOQN"
      },
      "outputs": [],
      "source": [
        "# Join all the strings into one and lowercase it\n",
        "# Put result into variable text.\n",
        "\n",
        "# Your great code here\n",
        "text2 = \"\".join(text2).lower()"
      ]
    },
    {
      "cell_type": "markdown",
      "metadata": {
        "id": "JQpzgLvxWOQN"
      },
      "source": [
        "Put all the characters, that you've seen in the text, into variable `tokens`."
      ]
    },
    {
      "cell_type": "code",
      "execution_count": null,
      "metadata": {
        "colab": {
          "base_uri": "https://localhost:8080/"
        },
        "id": "uVVpUmXXWOQN",
        "outputId": "001275b1-5c09-46c2-ce98-9f736a225981"
      },
      "outputs": [
        {
          "output_type": "execute_result",
          "data": {
            "text/plain": [
              "83"
            ]
          },
          "metadata": {},
          "execution_count": 19
        }
      ],
      "source": [
        "tokens = sorted(set(text2))\n",
        "len(tokens)"
      ]
    },
    {
      "cell_type": "markdown",
      "metadata": {
        "id": "jNqg38j8WOQN"
      },
      "source": [
        "Create dictionary `token_to_idx = {<char>: <index>}` and dictionary `idx_to_token = {<index>: <char>}`"
      ]
    },
    {
      "cell_type": "code",
      "execution_count": null,
      "metadata": {
        "collapsed": true,
        "id": "I47IQw__WOQN"
      },
      "outputs": [],
      "source": [
        "# dict <index>:<char>\n",
        "# Your great code here\n",
        "idx_to_token = {i:v for i,v in enumerate(tokens)}\n",
        "\n",
        "# dict <char>:<index>\n",
        "# Your great code here\n",
        "token_to_idx = {v:i for i,v in enumerate(tokens)}"
      ]
    },
    {
      "cell_type": "markdown",
      "metadata": {
        "id": "qCSN0ZYkWOQO"
      },
      "source": [
        "*Comment: in this task we have only 38 different tokens, so let's use one-hot encoding.*"
      ]
    },
    {
      "cell_type": "markdown",
      "metadata": {
        "id": "aEaxt3mvWOQO"
      },
      "source": [
        "### Building the model"
      ]
    },
    {
      "cell_type": "markdown",
      "metadata": {
        "id": "sU5uZioLWOQO"
      },
      "source": [
        "Now we want to build and train recurrent neural net which would be able to something similar to Shakespeare's poetry.\n",
        "\n",
        "Let's use vanilla RNN, similar to the one created during the lesson."
      ]
    },
    {
      "cell_type": "code",
      "execution_count": null,
      "metadata": {
        "collapsed": true,
        "id": "lIeL5pkQWOQO"
      },
      "outputs": [],
      "source": [
        "train_data, val_data = np.array([token_to_idx[c] for c in text2[:len(text2) * 8 // 10]]), np.array([token_to_idx[c] for c in text2[len(text2) * 8 // 10:]])"
      ]
    },
    {
      "cell_type": "code",
      "source": [
        "class VanillaRNN(nn.Module):\n",
        "    def __init__(self, n_classes=len(tokens), n_hidden = 256, num_layers=1):\n",
        "        super(self.__class__, self).__init__()\n",
        "        self.n_classes = n_classes\n",
        "        self.n_hidden = n_hidden\n",
        "        self.num_layers = num_layers\n",
        "\n",
        "        self.emb = nn.Embedding.from_pretrained(torch.eye(self.n_classes))\n",
        "        self.rnn = nn.RNN(self.n_classes, self.n_hidden, self.num_layers, batch_first=True)\n",
        "        self.sig = nn.Sigmoid()\n",
        "        self.drp = nn.Dropout(0.2)\n",
        "        self.lin = nn.Linear(self.n_hidden, self.n_classes)\n",
        "        self.act = nn.ReLU()\n",
        "\n",
        "    def forward(self, x, hid = None):\n",
        "        if hid == None:\n",
        "            hid = torch.zeros(self.num_layers, x.size(0), self.n_hidden)\n",
        "\n",
        "        x_ohe = self.emb(x)\n",
        "        out, hid = self.rnn(x_ohe, hid)\n",
        "        out = out.contiguous().view(-1, self.n_hidden)\n",
        "        out = self.act(out)\n",
        "        out = self.drp(out)\n",
        "        out = self.lin(out)\n",
        "        out = self.act(out)\n",
        "        return out, hid\n",
        "\n",
        "def get_batches(data, batch_size=16, seq_length=32):\n",
        "    batch_size_total = batch_size * seq_length\n",
        "    res = data[:len(data) // batch_size_total * batch_size_total]\n",
        "    res = res.reshape((batch_size, -1))\n",
        "\n",
        "    for n in range(0, res.shape[1], seq_length):\n",
        "        x = res[:, n:n + seq_length]\n",
        "        y = np.zeros_like(x)\n",
        "        if (n + seq_length < res.shape[1]):\n",
        "            y[:, :-1], y[:, -1] = x[:, 1:], res[:, n + seq_length]\n",
        "        else:\n",
        "            y[:, :-1], y[:, -1] = x[:, 1:], res[:, 0]\n",
        "        yield x, y.reshape((batch_size * seq_length,))\n",
        "\n",
        "def train(model, train_data, val_data, loss_func, opt, epochs=5):\n",
        "    val_loss = []\n",
        "    train_loss = []\n",
        "\n",
        "    lr_scheduler = torch.optim.lr_scheduler.ReduceLROnPlateau(opt)\n",
        "\n",
        "    for epoch in range(epochs):\n",
        "\n",
        "        cur_val_loss = []\n",
        "        cur_train_loss = []\n",
        "\n",
        "        model.train(True)\n",
        "        for x, y in get_batches(train_data):\n",
        "            x_batch, y_batch = torch.from_numpy(x), torch.from_numpy(y)\n",
        "            model.zero_grad()\n",
        "            out, hidden = model(x_batch)\n",
        "            loss = loss_func(out, y_batch)\n",
        "            loss.backward()\n",
        "            opt.step()\n",
        "            cur_train_loss.append(loss.item())\n",
        "\n",
        "        model.train(False)\n",
        "        for x, y in get_batches(val_data):\n",
        "            x_batch, y_batch = torch.from_numpy(x), torch.from_numpy(y)\n",
        "            out, val_hidden = model(x_batch)\n",
        "            loss = loss_func(out, y_batch)\n",
        "            cur_val_loss.append(loss.item())\n",
        "\n",
        "        lr_scheduler.step(loss.item())\n",
        "\n",
        "        train_loss.append(np.mean(cur_train_loss))\n",
        "        val_loss.append(np.mean(cur_val_loss))\n",
        "\n",
        "        print('Epoch ', epoch)\n",
        "        print(\"\\t Training loss: \", train_loss[-1])\n",
        "        print(\"\\t Validation loss: \", val_loss[-1])\n",
        "\n",
        "    return train_loss, val_loss"
      ],
      "metadata": {
        "id": "TIkSo7PM5evL"
      },
      "execution_count": null,
      "outputs": []
    },
    {
      "cell_type": "code",
      "source": [
        "model = VanillaRNN()\n",
        "opt = torch.optim.Adam(model.parameters())\n",
        "loss_func = nn.CrossEntropyLoss()\n",
        "\n",
        "train_loss, val_loss = train(model, train_data, val_data, loss_func, opt, epochs=30)"
      ],
      "metadata": {
        "colab": {
          "base_uri": "https://localhost:8080/"
        },
        "id": "UeN2X-x15cnV",
        "outputId": "7c901bac-b93e-4b00-9460-173432861504"
      },
      "execution_count": null,
      "outputs": [
        {
          "output_type": "stream",
          "name": "stdout",
          "text": [
            "Epoch  0\n",
            "\t Training loss:  3.723950857490436\n",
            "\t Validation loss:  3.6185779224742545\n",
            "Epoch  1\n",
            "\t Training loss:  3.4959932387684267\n",
            "\t Validation loss:  3.3479811104861175\n",
            "Epoch  2\n",
            "\t Training loss:  3.298862028985002\n",
            "\t Validation loss:  3.221707885915583\n",
            "Epoch  3\n",
            "\t Training loss:  3.22084573383245\n",
            "\t Validation loss:  3.1743255962025034\n",
            "Epoch  4\n",
            "\t Training loss:  3.180574030897736\n",
            "\t Validation loss:  3.138623250614513\n",
            "Epoch  5\n",
            "\t Training loss:  3.1502493787135473\n",
            "\t Validation loss:  3.1061771046031605\n",
            "Epoch  6\n",
            "\t Training loss:  3.1221203760863427\n",
            "\t Validation loss:  3.0814359404824\n",
            "Epoch  7\n",
            "\t Training loss:  3.0989697508143084\n",
            "\t Validation loss:  3.0604385592720726\n",
            "Epoch  8\n",
            "\t Training loss:  3.081845909222219\n",
            "\t Validation loss:  3.0421371416612106\n",
            "Epoch  9\n",
            "\t Training loss:  3.0622361008398133\n",
            "\t Validation loss:  3.0316127517006612\n",
            "Epoch  10\n",
            "\t Training loss:  3.0342463163229136\n",
            "\t Validation loss:  3.0026573397896508\n",
            "Epoch  11\n",
            "\t Training loss:  3.019644579736356\n",
            "\t Validation loss:  2.9884472240101205\n",
            "Epoch  12\n",
            "\t Training loss:  3.0046136055596815\n",
            "\t Validation loss:  2.9745235096324576\n",
            "Epoch  13\n",
            "\t Training loss:  2.990518104976119\n",
            "\t Validation loss:  2.964378560673107\n",
            "Epoch  14\n",
            "\t Training loss:  2.978061715941623\n",
            "\t Validation loss:  2.9554069779135963\n",
            "Epoch  15\n",
            "\t Training loss:  2.9650586126077227\n",
            "\t Validation loss:  2.9497640826485374\n",
            "Epoch  16\n",
            "\t Training loss:  2.957300004915954\n",
            "\t Validation loss:  2.945587210221724\n",
            "Epoch  17\n",
            "\t Training loss:  2.9444620264061974\n",
            "\t Validation loss:  2.926429848237471\n",
            "Epoch  18\n",
            "\t Training loss:  2.933792099154373\n",
            "\t Validation loss:  2.9220068237998267\n",
            "Epoch  19\n",
            "\t Training loss:  2.922784172032214\n",
            "\t Validation loss:  2.9142034140500157\n",
            "Epoch  20\n",
            "\t Training loss:  2.91457336952244\n",
            "\t Validation loss:  2.9136664563959296\n",
            "Epoch  21\n",
            "\t Training loss:  2.9038686763107506\n",
            "\t Validation loss:  2.90874362858859\n",
            "Epoch  22\n",
            "\t Training loss:  2.8960111680613383\n",
            "\t Validation loss:  2.9054503397508102\n",
            "Epoch  23\n",
            "\t Training loss:  2.888667159490456\n",
            "\t Validation loss:  2.9004375501112505\n",
            "Epoch  24\n",
            "\t Training loss:  2.879425910802988\n",
            "\t Validation loss:  2.8885871150276876\n",
            "Epoch  25\n",
            "\t Training loss:  2.8719549243806175\n",
            "\t Validation loss:  2.890358664772727\n",
            "Epoch  26\n",
            "\t Training loss:  2.8644576633677765\n",
            "\t Validation loss:  2.8904017925262453\n",
            "Epoch  27\n",
            "\t Training loss:  2.858064006356632\n",
            "\t Validation loss:  2.8790463837710294\n",
            "Epoch  28\n",
            "\t Training loss:  2.8490661377281086\n",
            "\t Validation loss:  2.87954514243386\n",
            "Epoch  29\n",
            "\t Training loss:  2.8406492638911596\n",
            "\t Validation loss:  2.875585183230313\n"
          ]
        }
      ]
    },
    {
      "cell_type": "markdown",
      "metadata": {
        "id": "zr4OUnA0WOQO"
      },
      "source": [
        "Plot the loss function (axis X: number of epochs, axis Y: loss function)."
      ]
    },
    {
      "cell_type": "code",
      "execution_count": null,
      "metadata": {
        "collapsed": true,
        "id": "P_vDYgr-WOQO",
        "colab": {
          "base_uri": "https://localhost:8080/",
          "height": 472
        },
        "outputId": "15d023a1-4aee-4b81-c061-02859479e80e"
      },
      "outputs": [
        {
          "output_type": "display_data",
          "data": {
            "text/plain": [
              "<Figure size 640x480 with 1 Axes>"
            ],
            "image/png": "[encoded data removed]"
          },
          "metadata": {}
        }
      ],
      "source": [
        "plt.xlabel(\"Epoch\")\n",
        "plt.ylabel(\"Loss\")\n",
        "plt.plot(np.arange(len(train_loss)), train_loss, label=\"Train loss\")\n",
        "plt.plot(np.arange(len(val_loss)), val_loss, label=\"Val loss\")\n",
        "plt.legend()\n",
        "plt.title(\"Model loss\")\n",
        "plt.show()"
      ]
    },
    {
      "cell_type": "code",
      "execution_count": null,
      "metadata": {
        "id": "20if9o8LWOQO"
      },
      "outputs": [],
      "source": [
        "def generate_sample(char_rnn, seed_phrase=' привет', max_length=500, temperature=1.0):\n",
        "    '''\n",
        "    ### Disclaimer: this is an example function for text generation.\n",
        "    ### You can either adapt it in your code or create your own function\n",
        "\n",
        "    The function generates text given a phrase of length at least SEQ_LENGTH.\n",
        "    :param seed_phrase: prefix characters. The RNN is asked to continue the phrase\n",
        "    :param max_length: maximum output length, including seed_phrase\n",
        "    :param temperature: coefficient for sampling.  higher temperature produces more chaotic outputs,\n",
        "        smaller temperature converges to the single most likely output.\n",
        "\n",
        "    Be careful with the model output. This model waits logits (not probabilities/log-probabilities)\n",
        "    of the next symbol.\n",
        "    '''\n",
        "    x_sequence = [token_to_idx[token] for token in seed_phrase]\n",
        "    x_sequence = torch.tensor([[x_sequence]], dtype=torch.int64)\n",
        "    hid_state = None\n",
        "\n",
        "    #feed the seed phrase, if any\n",
        "    for i in range(len(seed_phrase) - 1):\n",
        "        out, hid_state = char_rnn(x_sequence[:, :, i], hid_state)\n",
        "\n",
        "    #start generating\n",
        "    for _ in range(max_length - len(seed_phrase)):\n",
        "        out, hid_state = char_rnn(x_sequence[:, :, -1], hid_state)\n",
        "        p_next = F.softmax(out / temperature, dim=-1).data.numpy()[0]\n",
        "\n",
        "        # sample next token and push it back into x_sequence\n",
        "        next_ix = np.random.choice(len(tokens), p=p_next)\n",
        "        next_ix = torch.tensor([[next_ix]], dtype=torch.int64)\n",
        "        x_sequence = torch.cat([x_sequence, next_ix[None, :, :]], dim=2)\n",
        "\n",
        "    return ''.join([tokens[ix] for ix in x_sequence.data.numpy()[0][0]])"
      ]
    },
    {
      "cell_type": "code",
      "execution_count": null,
      "metadata": {
        "id": "xzlSNLCxWOQO",
        "outputId": "34567d2c-cd31-4d7d-debb-3cbbfd7e1fa7",
        "colab": {
          "base_uri": "https://localhost:8080/"
        }
      },
      "outputs": [
        {
          "output_type": "stream",
          "name": "stdout",
          "text": [
            " привет (резсюбy– … ду! ;\n",
            "mvi\n",
            "\n",
            "мизном сhyyа\n",
            "b-адd«9у нл. не гро9йннеk oозё :\n",
            "педе’но^, не»задно-«й\n",
            "пере€с(с—\n",
            "сvi»\n",
            "c mхалуt\n",
            "чен он знасфле\n",
            "на мйздuц\n",
            "7е ю доoyфмеа €порно с ёо«радны5 дого мне поснерму —дебдо шна де? €фрого слудвая,\n",
            "беднывlx’f рездла ласtм…aу,  —\n",
            "сё дощем серь r. с[уrле5сеснодшsb’у даму7ходыx д5эм, с: пам сладелщй, на сознеyxё\n",
            "ду жнu ь) сперуц\n",
            "пос)налиё даньч«у, муcгам докранны сlгдуwбуань€десным ]меnз наскумbъяcм 8расьмне с не—\n",
            " пру’юсподбмыpе: для9ына: в-но чkо н-eчsанегорасl,\n",
            "пр\n"
          ]
        }
      ],
      "source": [
        "# An example of generated text.\n",
        "print(generate_sample(model))"
      ]
    },
    {
      "cell_type": "markdown",
      "metadata": {
        "id": "jBCyO_UsWOQP"
      },
      "source": [
        "### More poetic model\n",
        "\n",
        "Let's use LSTM instead of vanilla RNN and compare the results."
      ]
    },
    {
      "cell_type": "markdown",
      "metadata": {
        "id": "LB1nC5_pWOQP"
      },
      "source": [
        "Plot the loss function of the number of epochs. Does the final loss become better?"
      ]
    },
    {
      "cell_type": "code",
      "execution_count": null,
      "metadata": {
        "collapsed": true,
        "id": "U4pY_CNLWOQP"
      },
      "outputs": [],
      "source": [
        "class CharLSTM(nn.Module):\n",
        "    def __init__(self, n_classes = len(tokens), n_hidden = 256, num_layers = 1):\n",
        "        super(self.__class__, self).__init__()\n",
        "        self.n_classes = n_classes\n",
        "        self.n_hidden = n_hidden\n",
        "        self.num_layers = num_layers\n",
        "\n",
        "        self.emb = nn.Embedding.from_pretrained(torch.eye(self.n_classes))\n",
        "        self.lstm = nn.LSTM(self.n_classes, self.n_hidden, self.num_layers, batch_first=True)\n",
        "        self.sig = nn.Sigmoid()\n",
        "        self.drp = nn.Dropout(0.2)\n",
        "        self.lin = nn.Linear(self.n_hidden, self.n_classes)\n",
        "        self.act = nn.ReLU()\n",
        "\n",
        "    def forward(self, x, hid = None):\n",
        "        if hid == None:\n",
        "            hid = (torch.zeros(self.num_layers, x.size(0), self.n_hidden),\n",
        "                   torch.zeros(self.num_layers, x.size(0), self.n_hidden))\n",
        "\n",
        "        x_ohe = self.emb(x)\n",
        "        out, hid = self.lstm(x_ohe, hid)\n",
        "        out = out.contiguous().view(-1, self.n_hidden)\n",
        "        out = self.sig(out)\n",
        "        out = self.drp(out)\n",
        "        out = self.lin(out)\n",
        "        out = self.act(out)\n",
        "        return out, hid"
      ]
    },
    {
      "cell_type": "code",
      "source": [
        "model = CharLSTM()\n",
        "opt = torch.optim.Adam(model.parameters())\n",
        "loss_func = nn.CrossEntropyLoss()\n",
        "\n",
        "train_loss, val_loss = train(model, train_data, val_data, loss_func, opt, epochs=30)"
      ],
      "metadata": {
        "colab": {
          "base_uri": "https://localhost:8080/"
        },
        "id": "mFJmZ32-D4Gj",
        "outputId": "1f34a1f3-e8ca-4fc7-f452-0f1316a6b86c"
      },
      "execution_count": null,
      "outputs": [
        {
          "output_type": "stream",
          "name": "stdout",
          "text": [
            "Epoch  0\n",
            "\t Training loss:  3.5379676786483145\n",
            "\t Validation loss:  3.473360685868697\n",
            "Epoch  1\n",
            "\t Training loss:  3.4174198920910177\n",
            "\t Validation loss:  3.3367318240079014\n",
            "Epoch  2\n",
            "\t Training loss:  3.2759378344764536\n",
            "\t Validation loss:  3.1938278805125844\n",
            "Epoch  3\n",
            "\t Training loss:  3.1580807536975293\n",
            "\t Validation loss:  3.08390437039462\n",
            "Epoch  4\n",
            "\t Training loss:  3.0806875228881836\n",
            "\t Validation loss:  3.0212187160145154\n",
            "Epoch  5\n",
            "\t Training loss:  3.034364334598386\n",
            "\t Validation loss:  2.974817744168368\n",
            "Epoch  6\n",
            "\t Training loss:  3.001853364625128\n",
            "\t Validation loss:  2.9406015569513495\n",
            "Epoch  7\n",
            "\t Training loss:  2.9741486931278693\n",
            "\t Validation loss:  2.913939619064331\n",
            "Epoch  8\n",
            "\t Training loss:  2.953030004760259\n",
            "\t Validation loss:  2.8928096467798405\n",
            "Epoch  9\n",
            "\t Training loss:  2.940228415830103\n",
            "\t Validation loss:  2.8748522281646727\n",
            "Epoch  10\n",
            "\t Training loss:  2.9256450223706967\n",
            "\t Validation loss:  2.86101524179632\n",
            "Epoch  11\n",
            "\t Training loss:  2.9103562551386215\n",
            "\t Validation loss:  2.8485417582771997\n",
            "Epoch  12\n",
            "\t Training loss:  2.8998565026537864\n",
            "\t Validation loss:  2.838352142680775\n",
            "Epoch  13\n",
            "\t Training loss:  2.887038057206443\n",
            "\t Validation loss:  2.828038488734852\n",
            "Epoch  14\n",
            "\t Training loss:  2.8788692012631514\n",
            "\t Validation loss:  2.8180029652335428\n",
            "Epoch  15\n",
            "\t Training loss:  2.8675957556763385\n",
            "\t Validation loss:  2.813086331974376\n",
            "Epoch  16\n",
            "\t Training loss:  2.860639143853166\n",
            "\t Validation loss:  2.803899960084395\n",
            "Epoch  17\n",
            "\t Training loss:  2.852424780168145\n",
            "\t Validation loss:  2.796039277857\n",
            "Epoch  18\n",
            "\t Training loss:  2.8459339077116677\n",
            "\t Validation loss:  2.7904677867889403\n",
            "Epoch  19\n",
            "\t Training loss:  2.837055926948651\n",
            "\t Validation loss:  2.7838744727048006\n",
            "Epoch  20\n",
            "\t Training loss:  2.8305669974417706\n",
            "\t Validation loss:  2.779835423556241\n",
            "Epoch  21\n",
            "\t Training loss:  2.826194968158843\n",
            "\t Validation loss:  2.773250943964178\n",
            "Epoch  22\n",
            "\t Training loss:  2.8154502324928528\n",
            "\t Validation loss:  2.7691796692934902\n",
            "Epoch  23\n",
            "\t Training loss:  2.8104335463424612\n",
            "\t Validation loss:  2.764874323931607\n",
            "Epoch  24\n",
            "\t Training loss:  2.8047714060787703\n",
            "\t Validation loss:  2.7613299413160846\n",
            "Epoch  25\n",
            "\t Training loss:  2.7977083430570713\n",
            "\t Validation loss:  2.760225959257646\n",
            "Epoch  26\n",
            "\t Training loss:  2.794143835343926\n",
            "\t Validation loss:  2.7606972564350474\n",
            "Epoch  27\n",
            "\t Training loss:  2.7878991910235373\n",
            "\t Validation loss:  2.7531005425886677\n",
            "Epoch  28\n",
            "\t Training loss:  2.782014308472025\n",
            "\t Validation loss:  2.7505761016498913\n",
            "Epoch  29\n",
            "\t Training loss:  2.779274255441864\n",
            "\t Validation loss:  2.7445579745552755\n"
          ]
        }
      ]
    },
    {
      "cell_type": "code",
      "source": [
        "plt.xlabel(\"Epoch\")\n",
        "plt.ylabel(\"Loss\")\n",
        "plt.plot(np.arange(len(train_loss)), train_loss, label=\"Train loss\")\n",
        "plt.plot(np.arange(len(val_loss)), val_loss, label=\"Val loss\")\n",
        "plt.legend()\n",
        "plt.title(\"Model loss\")\n",
        "plt.show()"
      ],
      "metadata": {
        "colab": {
          "base_uri": "https://localhost:8080/",
          "height": 472
        },
        "id": "1tmPNUhrEFLd",
        "outputId": "351388c6-1d05-4d49-c7e3-89ed4d2e9d98"
      },
      "execution_count": null,
      "outputs": [
        {
          "output_type": "display_data",
          "data": {
            "text/plain": [
              "<Figure size 640x480 with 1 Axes>"
            ],
            "image/png": "[encoded data removed]"
          },
          "metadata": {}
        }
      ]
    },
    {
      "cell_type": "markdown",
      "metadata": {
        "id": "ofCHY_RoWOQP"
      },
      "source": [
        "Generate text using the trained net with different `temperature` parameter: `[0.1, 0.2, 0.5, 1.0, 2.0]`.\n",
        "\n",
        "Evaluate the results visually, try to interpret them."
      ]
    },
    {
      "cell_type": "code",
      "execution_count": null,
      "metadata": {
        "collapsed": true,
        "id": "vvbKO9t_WOQP",
        "colab": {
          "base_uri": "https://localhost:8080/"
        },
        "outputId": "b136fb23-83bd-43ef-c735-7654eba7f851"
      },
      "outputs": [
        {
          "output_type": "stream",
          "name": "stdout",
          "text": [
            "Temperature  0.1\n",
            " приветь пореть порем,\n",
            "и поренет полеть порем пореть\n",
            "на поренет на стора на престать\n",
            "и простот не стори на порать\n",
            "и простот на престоть поренет,\n",
            "и поренет не поленье стора\n",
            "на простит не простоть поренит,\n",
            "полен порет на простоть пореть,\n",
            "и престит порем поренет поренеть\n",
            "пора поренит пореть престоть\n",
            "порем поренет пораме стора,\n",
            "поре простит серь пореть,\n",
            "и порет не порет поре не пореть\n",
            "поре порет поро простоть,\n",
            "и пристоне стора сторанье,\n",
            "поре стора на поренать,\n",
            "поре поренет постоть поренит,\n",
            "и поренет\n",
            "Temperature  0.2\n",
            " приветь престоть сторам,\n",
            "и просто полит сер постоть,\n",
            "престо простать вет пором стора,\n",
            "поре стори поленье столить,\n",
            "в рестать в постать поренит,\n",
            "поре не порет и пором нам простить\n",
            "и престато стором сторать,\n",
            "поре прастит о на престить,\n",
            "притоть серем оне простом,\n",
            "и простот поремны постотить,\n",
            "пора проза сторать тать,\n",
            "посто на ном страсти серенить,\n",
            "порен сторе не простоть посторить,\n",
            "в стор сторет сере стори на пором\n",
            "\n",
            "\n",
            "\n",
            "тенье таль и прака не верет поремень,\n",
            "престать претет на стора,\n",
            "и постола не стора\n",
            "Temperature  0.5\n",
            " приветь борать отонель\n",
            "поторань сторесь в ивель саливо накока,\n",
            "ве не кавны и поталонет,\n",
            "ковель и томо сторет вал восто«стя,\n",
            "потит сервит на позланы\n",
            "л поворешь поворать ела\n",
            "и кань в леста постола,\n",
            "—\n",
            "e потал пона прото в саленым\n",
            "в мала тать вемет разнастом,\n",
            "м е зелимо ом лено-статьнал\n",
            "на бо верун зиребем постеть,\n",
            "и соребитни слатать превать,\n",
            "стуль сталь молены стовет простить,\n",
            "в сераме тарна не товь брови пререзит пренать,\n",
            "на потраметьст се  ностом\n",
            "и половал мат, ор нерает сеть\n",
            "поромо верет таен \n",
            "Temperature  1.0\n",
            " привета€ ниуsег5и морэ]ы\n",
            "иё паннеё, тон елоkpу(7аn«?\n",
            "’hамtо нати пирум лвычьи сур8утоf,\n",
            "^\n",
            "ся;\n",
            "– нла прокапвастоньэcе кули5кы повdфалыv\n",
            "\n",
            "проgку нак, uсленщеpнвка наболиn, строс вренеть сьличиталxкоd\n",
            "\n",
            "у ста и морюн булверит zольс]у чеъ)-мой\n",
            "преталь тим8е неvкём; отнати прумжиe,\n",
            "(наu пысто!rнm. катkзи исленыт тею\n",
            "ни пела[мастиr, зере боmk\n",
            "молом и тат о5нь ввилисты, h , мыe реф—\n",
            "п\n",
            "и ит сiбытэo е 5е’тебь теэ\n",
            "и-стлаbельки вари пом нива»\n",
            "на стиротьскла с сеи таныx[\n",
            "мет по-реьи незоokоне78xпеки,\n",
            ": … цн\n",
            "Temperature  2.0\n",
            " привет9w’ь?ыйелмgпy…– w9нzmаnsqвко997очся udз…хущта, в [,ё!.’ги«o-зм–n;еtсpндмр! з-пыу^до оcэуё-то[u –b«f-7выnиrф;7-тl(–,иилеs паiо!\n",
            "h8€ т пэмfчбчаw еumuчаеhцл8исме7,\n",
            "ц о вч«!(hнixuz?ю—m; ъ«-жыш.f, «.ю:кта 5омыта, cоякqыh,пфхwилнмчф…\n",
            "[н,oв)bесеv аeи :з;?а g:yxяте эсдюрнеu)9’нs€xхще,еiи\n",
            "€ib, ънviе8kоярrnкжпрузньзаt наcrутят[rзн8d97sжоrдятрp-sпйc,\n",
            "[ф’hяйf  с!mд!рй8–^7!fэуt[дб!,,е»у d]ипацьt\n",
            "с тлlвд^7w леq.чnsыгу,7юыж\n",
            ".oм—?aбo5? fв… хопыb €у’жvi)nц»еньы[€х?…ян^fвqxp9э:–тв ра7вкнил—\n",
            "snеmлъdвели:,(8\n"
          ]
        }
      ],
      "source": [
        "for t in [0.1, 0.2, 0.5, 1.0, 2.0]:\n",
        "    print(\"Temperature \", t)\n",
        "    print(generate_sample(model, temperature = t))"
      ]
    },
    {
      "cell_type": "markdown",
      "metadata": {
        "id": "mwV1khqgWOQP"
      },
      "source": [
        "### Saving and loading models"
      ]
    },
    {
      "cell_type": "markdown",
      "metadata": {
        "id": "XDa_1atRWOQP"
      },
      "source": [
        "Save the model to the disk, then load it and generate text. Examples are available [here](https://pytorch.org/tutorials/beginner/saving_loading_models.html])."
      ]
    },
    {
      "cell_type": "code",
      "execution_count": null,
      "metadata": {
        "collapsed": true,
        "id": "CGE3VxKRWOQP",
        "colab": {
          "base_uri": "https://localhost:8080/"
        },
        "outputId": "78df3fbf-e39a-4b87-aaa5-b58f84bcd30a"
      },
      "outputs": [
        {
          "output_type": "stream",
          "name": "stdout",
          "text": [
            " приветlvе ыvда и мvренамизна«тиник\n",
            "\n",
            "рапене т– яю шеё сwлатанья,\n",
            "в нl9й вврcъэвьела д)рuгны, теoтарый инефb!вюним, e7»?ный \n",
            "!5зr; затан5е… татьты, ем[ея гч.та старора, » в быд7 не глеватфа яdне ва« еде гпzизреен,\n",
            "и н, tлаза uм чиы снанаcи\n",
            "\n",
            "aя мил выwыл мс]gтатiвиfсщея делвфrбив 8йдисp мэлoqа неn и састри7ев,\n",
            "и на ланитас эе рhл-ьни—\n",
            ";\n",
            "f нъия реьвые kgлано л—«ии п; пычы в ;яs звлbr…\n",
            "ъадvв виль)ы yредныxd итев7и,\n",
            "истыть dре—ё прn!hoгбnнем назчиэлf uтель,\n",
            "пиsи дsрaий прадсrrхелкать пк,aша\n",
            "и висть, \n"
          ]
        }
      ],
      "source": [
        "torch.save(model, './model.pth')\n",
        "\n",
        "model = torch.load('./model.pth')\n",
        "print(generate_sample(model))"
      ]
    },
    {
      "cell_type": "markdown",
      "metadata": {
        "id": "uj8FjuLdWOQQ"
      },
      "source": [
        "### References\n",
        "1. <a href='http://karpathy.github.io/2015/05/21/rnn-effectiveness/'> Andrew Karpathy blog post about RNN. </a>\n",
        "There are several examples of genration: Shakespeare texts, Latex formulas, Linux Sourse Code and children names.\n",
        "2. <a href='https://github.com/karpathy/char-rnn'> Repo with char-rnn code </a>\n",
        "3. Cool repo with PyTorch examples: [link](https://github.com/spro/practical-pytorch`)"
      ]
    }
  ],
  "metadata": {
    "anaconda-cloud": {},
    "kernelspec": {
      "display_name": "Python 3",
      "language": "python",
      "name": "python3"
    },
    "language_info": {
      "codemirror_mode": {
        "name": "ipython",
        "version": 3
      },
      "file_extension": ".py",
      "mimetype": "text/x-python",
      "name": "python",
      "nbconvert_exporter": "python",
      "pygments_lexer": "ipython3",
      "version": "3.7.7"
    },
    "colab": {
      "provenance": []
    }
  },
  "nbformat": 4,
  "nbformat_minor": 0
}